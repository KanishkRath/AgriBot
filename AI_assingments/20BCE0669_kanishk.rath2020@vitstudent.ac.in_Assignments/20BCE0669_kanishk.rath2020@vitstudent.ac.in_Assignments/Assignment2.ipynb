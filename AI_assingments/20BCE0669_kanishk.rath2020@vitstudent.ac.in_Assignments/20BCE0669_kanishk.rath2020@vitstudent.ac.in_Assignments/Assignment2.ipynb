{
  "nbformat": 4,
  "nbformat_minor": 0,
  "metadata": {
    "colab": {
      "provenance": []
    },
    "kernelspec": {
      "name": "python3",
      "display_name": "Python 3"
    },
    "language_info": {
      "name": "python"
    }
  },
  "cells": [
    {
      "cell_type": "markdown",
      "source": [
        "#Importing Libraries"
      ],
      "metadata": {
        "id": "ra9Q-4lblETf"
      }
    },
    {
      "cell_type": "code",
      "execution_count": 1,
      "metadata": {
        "id": "qxFESL_dk9sH"
      },
      "outputs": [],
      "source": [
        "import numpy as np\n",
        "import pandas as pd\n",
        "import sklearn \n",
        "import matplotlib.pyplot as plt\n",
        "import seaborn as sns\n",
        "from sklearn.model_selection import train_test_split\n",
        "from sklearn.preprocessing import LabelEncoder\n",
        "from tensorflow.keras.models import Sequential\n",
        "from tensorflow.keras.layers import Dense"
      ]
    },
    {
      "cell_type": "markdown",
      "source": [
        "#Reading and Preprocessing Dataset"
      ],
      "metadata": {
        "id": "YP6aXjyQlzKJ"
      }
    },
    {
      "cell_type": "markdown",
      "source": [
        "####Reading Dataset"
      ],
      "metadata": {
        "id": "maz8Q4tEl4O9"
      }
    },
    {
      "cell_type": "code",
      "source": [
        "df=pd.read_csv('drug200.csv')\n",
        "df.head()"
      ],
      "metadata": {
        "colab": {
          "base_uri": "https://localhost:8080/",
          "height": 206
        },
        "id": "-HOgOI0wl_sz",
        "outputId": "d996e791-c2ae-478e-a764-2f0bb1eaf805"
      },
      "execution_count": 3,
      "outputs": [
        {
          "output_type": "execute_result",
          "data": {
            "text/plain": [
              "   Age Sex      BP Cholesterol  Na_to_K   Drug\n",
              "0   23   F    HIGH        HIGH   25.355  DrugY\n",
              "1   47   M     LOW        HIGH   13.093  drugC\n",
              "2   47   M     LOW        HIGH   10.114  drugC\n",
              "3   28   F  NORMAL        HIGH    7.798  drugX\n",
              "4   61   F     LOW        HIGH   18.043  DrugY"
            ],
            "text/html": [
              "\n",
              "  <div id=\"df-f4554dae-88fc-4a54-bfa9-3e3e3b3e698b\">\n",
              "    <div class=\"colab-df-container\">\n",
              "      <div>\n",
              "<style scoped>\n",
              "    .dataframe tbody tr th:only-of-type {\n",
              "        vertical-align: middle;\n",
              "    }\n",
              "\n",
              "    .dataframe tbody tr th {\n",
              "        vertical-align: top;\n",
              "    }\n",
              "\n",
              "    .dataframe thead th {\n",
              "        text-align: right;\n",
              "    }\n",
              "</style>\n",
              "<table border=\"1\" class=\"dataframe\">\n",
              "  <thead>\n",
              "    <tr style=\"text-align: right;\">\n",
              "      <th></th>\n",
              "      <th>Age</th>\n",
              "      <th>Sex</th>\n",
              "      <th>BP</th>\n",
              "      <th>Cholesterol</th>\n",
              "      <th>Na_to_K</th>\n",
              "      <th>Drug</th>\n",
              "    </tr>\n",
              "  </thead>\n",
              "  <tbody>\n",
              "    <tr>\n",
              "      <th>0</th>\n",
              "      <td>23</td>\n",
              "      <td>F</td>\n",
              "      <td>HIGH</td>\n",
              "      <td>HIGH</td>\n",
              "      <td>25.355</td>\n",
              "      <td>DrugY</td>\n",
              "    </tr>\n",
              "    <tr>\n",
              "      <th>1</th>\n",
              "      <td>47</td>\n",
              "      <td>M</td>\n",
              "      <td>LOW</td>\n",
              "      <td>HIGH</td>\n",
              "      <td>13.093</td>\n",
              "      <td>drugC</td>\n",
              "    </tr>\n",
              "    <tr>\n",
              "      <th>2</th>\n",
              "      <td>47</td>\n",
              "      <td>M</td>\n",
              "      <td>LOW</td>\n",
              "      <td>HIGH</td>\n",
              "      <td>10.114</td>\n",
              "      <td>drugC</td>\n",
              "    </tr>\n",
              "    <tr>\n",
              "      <th>3</th>\n",
              "      <td>28</td>\n",
              "      <td>F</td>\n",
              "      <td>NORMAL</td>\n",
              "      <td>HIGH</td>\n",
              "      <td>7.798</td>\n",
              "      <td>drugX</td>\n",
              "    </tr>\n",
              "    <tr>\n",
              "      <th>4</th>\n",
              "      <td>61</td>\n",
              "      <td>F</td>\n",
              "      <td>LOW</td>\n",
              "      <td>HIGH</td>\n",
              "      <td>18.043</td>\n",
              "      <td>DrugY</td>\n",
              "    </tr>\n",
              "  </tbody>\n",
              "</table>\n",
              "</div>\n",
              "      <button class=\"colab-df-convert\" onclick=\"convertToInteractive('df-f4554dae-88fc-4a54-bfa9-3e3e3b3e698b')\"\n",
              "              title=\"Convert this dataframe to an interactive table.\"\n",
              "              style=\"display:none;\">\n",
              "        \n",
              "  <svg xmlns=\"http://www.w3.org/2000/svg\" height=\"24px\"viewBox=\"0 0 24 24\"\n",
              "       width=\"24px\">\n",
              "    <path d=\"M0 0h24v24H0V0z\" fill=\"none\"/>\n",
              "    <path d=\"M18.56 5.44l.94 2.06.94-2.06 2.06-.94-2.06-.94-.94-2.06-.94 2.06-2.06.94zm-11 1L8.5 8.5l.94-2.06 2.06-.94-2.06-.94L8.5 2.5l-.94 2.06-2.06.94zm10 10l.94 2.06.94-2.06 2.06-.94-2.06-.94-.94-2.06-.94 2.06-2.06.94z\"/><path d=\"M17.41 7.96l-1.37-1.37c-.4-.4-.92-.59-1.43-.59-.52 0-1.04.2-1.43.59L10.3 9.45l-7.72 7.72c-.78.78-.78 2.05 0 2.83L4 21.41c.39.39.9.59 1.41.59.51 0 1.02-.2 1.41-.59l7.78-7.78 2.81-2.81c.8-.78.8-2.07 0-2.86zM5.41 20L4 18.59l7.72-7.72 1.47 1.35L5.41 20z\"/>\n",
              "  </svg>\n",
              "      </button>\n",
              "      \n",
              "  <style>\n",
              "    .colab-df-container {\n",
              "      display:flex;\n",
              "      flex-wrap:wrap;\n",
              "      gap: 12px;\n",
              "    }\n",
              "\n",
              "    .colab-df-convert {\n",
              "      background-color: #E8F0FE;\n",
              "      border: none;\n",
              "      border-radius: 50%;\n",
              "      cursor: pointer;\n",
              "      display: none;\n",
              "      fill: #1967D2;\n",
              "      height: 32px;\n",
              "      padding: 0 0 0 0;\n",
              "      width: 32px;\n",
              "    }\n",
              "\n",
              "    .colab-df-convert:hover {\n",
              "      background-color: #E2EBFA;\n",
              "      box-shadow: 0px 1px 2px rgba(60, 64, 67, 0.3), 0px 1px 3px 1px rgba(60, 64, 67, 0.15);\n",
              "      fill: #174EA6;\n",
              "    }\n",
              "\n",
              "    [theme=dark] .colab-df-convert {\n",
              "      background-color: #3B4455;\n",
              "      fill: #D2E3FC;\n",
              "    }\n",
              "\n",
              "    [theme=dark] .colab-df-convert:hover {\n",
              "      background-color: #434B5C;\n",
              "      box-shadow: 0px 1px 3px 1px rgba(0, 0, 0, 0.15);\n",
              "      filter: drop-shadow(0px 1px 2px rgba(0, 0, 0, 0.3));\n",
              "      fill: #FFFFFF;\n",
              "    }\n",
              "  </style>\n",
              "\n",
              "      <script>\n",
              "        const buttonEl =\n",
              "          document.querySelector('#df-f4554dae-88fc-4a54-bfa9-3e3e3b3e698b button.colab-df-convert');\n",
              "        buttonEl.style.display =\n",
              "          google.colab.kernel.accessAllowed ? 'block' : 'none';\n",
              "\n",
              "        async function convertToInteractive(key) {\n",
              "          const element = document.querySelector('#df-f4554dae-88fc-4a54-bfa9-3e3e3b3e698b');\n",
              "          const dataTable =\n",
              "            await google.colab.kernel.invokeFunction('convertToInteractive',\n",
              "                                                     [key], {});\n",
              "          if (!dataTable) return;\n",
              "\n",
              "          const docLinkHtml = 'Like what you see? Visit the ' +\n",
              "            '<a target=\"_blank\" href=https://colab.research.google.com/notebooks/data_table.ipynb>data table notebook</a>'\n",
              "            + ' to learn more about interactive tables.';\n",
              "          element.innerHTML = '';\n",
              "          dataTable['output_type'] = 'display_data';\n",
              "          await google.colab.output.renderOutput(dataTable, element);\n",
              "          const docLink = document.createElement('div');\n",
              "          docLink.innerHTML = docLinkHtml;\n",
              "          element.appendChild(docLink);\n",
              "        }\n",
              "      </script>\n",
              "    </div>\n",
              "  </div>\n",
              "  "
            ]
          },
          "metadata": {},
          "execution_count": 3
        }
      ]
    },
    {
      "cell_type": "code",
      "source": [
        "df.info()"
      ],
      "metadata": {
        "colab": {
          "base_uri": "https://localhost:8080/"
        },
        "id": "SdFDOK4Dm74C",
        "outputId": "a7bdf596-7bfe-4649-ddf3-ea02a47c12dd"
      },
      "execution_count": 7,
      "outputs": [
        {
          "output_type": "stream",
          "name": "stdout",
          "text": [
            "<class 'pandas.core.frame.DataFrame'>\n",
            "RangeIndex: 200 entries, 0 to 199\n",
            "Data columns (total 6 columns):\n",
            " #   Column       Non-Null Count  Dtype  \n",
            "---  ------       --------------  -----  \n",
            " 0   Age          200 non-null    int64  \n",
            " 1   Sex          200 non-null    object \n",
            " 2   BP           200 non-null    object \n",
            " 3   Cholesterol  200 non-null    object \n",
            " 4   Na_to_K      200 non-null    float64\n",
            " 5   Drug         200 non-null    object \n",
            "dtypes: float64(1), int64(1), object(4)\n",
            "memory usage: 9.5+ KB\n"
          ]
        }
      ]
    },
    {
      "cell_type": "code",
      "source": [
        "df.describe()"
      ],
      "metadata": {
        "colab": {
          "base_uri": "https://localhost:8080/",
          "height": 300
        },
        "id": "4MeHYI-1mWnA",
        "outputId": "cae4c5cf-0b22-4963-fd05-7cf4718bb536"
      },
      "execution_count": 4,
      "outputs": [
        {
          "output_type": "execute_result",
          "data": {
            "text/plain": [
              "              Age     Na_to_K\n",
              "count  200.000000  200.000000\n",
              "mean    44.315000   16.084485\n",
              "std     16.544315    7.223956\n",
              "min     15.000000    6.269000\n",
              "25%     31.000000   10.445500\n",
              "50%     45.000000   13.936500\n",
              "75%     58.000000   19.380000\n",
              "max     74.000000   38.247000"
            ],
            "text/html": [
              "\n",
              "  <div id=\"df-20bc1a61-e7ad-4a36-9383-aedf94bb4a32\">\n",
              "    <div class=\"colab-df-container\">\n",
              "      <div>\n",
              "<style scoped>\n",
              "    .dataframe tbody tr th:only-of-type {\n",
              "        vertical-align: middle;\n",
              "    }\n",
              "\n",
              "    .dataframe tbody tr th {\n",
              "        vertical-align: top;\n",
              "    }\n",
              "\n",
              "    .dataframe thead th {\n",
              "        text-align: right;\n",
              "    }\n",
              "</style>\n",
              "<table border=\"1\" class=\"dataframe\">\n",
              "  <thead>\n",
              "    <tr style=\"text-align: right;\">\n",
              "      <th></th>\n",
              "      <th>Age</th>\n",
              "      <th>Na_to_K</th>\n",
              "    </tr>\n",
              "  </thead>\n",
              "  <tbody>\n",
              "    <tr>\n",
              "      <th>count</th>\n",
              "      <td>200.000000</td>\n",
              "      <td>200.000000</td>\n",
              "    </tr>\n",
              "    <tr>\n",
              "      <th>mean</th>\n",
              "      <td>44.315000</td>\n",
              "      <td>16.084485</td>\n",
              "    </tr>\n",
              "    <tr>\n",
              "      <th>std</th>\n",
              "      <td>16.544315</td>\n",
              "      <td>7.223956</td>\n",
              "    </tr>\n",
              "    <tr>\n",
              "      <th>min</th>\n",
              "      <td>15.000000</td>\n",
              "      <td>6.269000</td>\n",
              "    </tr>\n",
              "    <tr>\n",
              "      <th>25%</th>\n",
              "      <td>31.000000</td>\n",
              "      <td>10.445500</td>\n",
              "    </tr>\n",
              "    <tr>\n",
              "      <th>50%</th>\n",
              "      <td>45.000000</td>\n",
              "      <td>13.936500</td>\n",
              "    </tr>\n",
              "    <tr>\n",
              "      <th>75%</th>\n",
              "      <td>58.000000</td>\n",
              "      <td>19.380000</td>\n",
              "    </tr>\n",
              "    <tr>\n",
              "      <th>max</th>\n",
              "      <td>74.000000</td>\n",
              "      <td>38.247000</td>\n",
              "    </tr>\n",
              "  </tbody>\n",
              "</table>\n",
              "</div>\n",
              "      <button class=\"colab-df-convert\" onclick=\"convertToInteractive('df-20bc1a61-e7ad-4a36-9383-aedf94bb4a32')\"\n",
              "              title=\"Convert this dataframe to an interactive table.\"\n",
              "              style=\"display:none;\">\n",
              "        \n",
              "  <svg xmlns=\"http://www.w3.org/2000/svg\" height=\"24px\"viewBox=\"0 0 24 24\"\n",
              "       width=\"24px\">\n",
              "    <path d=\"M0 0h24v24H0V0z\" fill=\"none\"/>\n",
              "    <path d=\"M18.56 5.44l.94 2.06.94-2.06 2.06-.94-2.06-.94-.94-2.06-.94 2.06-2.06.94zm-11 1L8.5 8.5l.94-2.06 2.06-.94-2.06-.94L8.5 2.5l-.94 2.06-2.06.94zm10 10l.94 2.06.94-2.06 2.06-.94-2.06-.94-.94-2.06-.94 2.06-2.06.94z\"/><path d=\"M17.41 7.96l-1.37-1.37c-.4-.4-.92-.59-1.43-.59-.52 0-1.04.2-1.43.59L10.3 9.45l-7.72 7.72c-.78.78-.78 2.05 0 2.83L4 21.41c.39.39.9.59 1.41.59.51 0 1.02-.2 1.41-.59l7.78-7.78 2.81-2.81c.8-.78.8-2.07 0-2.86zM5.41 20L4 18.59l7.72-7.72 1.47 1.35L5.41 20z\"/>\n",
              "  </svg>\n",
              "      </button>\n",
              "      \n",
              "  <style>\n",
              "    .colab-df-container {\n",
              "      display:flex;\n",
              "      flex-wrap:wrap;\n",
              "      gap: 12px;\n",
              "    }\n",
              "\n",
              "    .colab-df-convert {\n",
              "      background-color: #E8F0FE;\n",
              "      border: none;\n",
              "      border-radius: 50%;\n",
              "      cursor: pointer;\n",
              "      display: none;\n",
              "      fill: #1967D2;\n",
              "      height: 32px;\n",
              "      padding: 0 0 0 0;\n",
              "      width: 32px;\n",
              "    }\n",
              "\n",
              "    .colab-df-convert:hover {\n",
              "      background-color: #E2EBFA;\n",
              "      box-shadow: 0px 1px 2px rgba(60, 64, 67, 0.3), 0px 1px 3px 1px rgba(60, 64, 67, 0.15);\n",
              "      fill: #174EA6;\n",
              "    }\n",
              "\n",
              "    [theme=dark] .colab-df-convert {\n",
              "      background-color: #3B4455;\n",
              "      fill: #D2E3FC;\n",
              "    }\n",
              "\n",
              "    [theme=dark] .colab-df-convert:hover {\n",
              "      background-color: #434B5C;\n",
              "      box-shadow: 0px 1px 3px 1px rgba(0, 0, 0, 0.15);\n",
              "      filter: drop-shadow(0px 1px 2px rgba(0, 0, 0, 0.3));\n",
              "      fill: #FFFFFF;\n",
              "    }\n",
              "  </style>\n",
              "\n",
              "      <script>\n",
              "        const buttonEl =\n",
              "          document.querySelector('#df-20bc1a61-e7ad-4a36-9383-aedf94bb4a32 button.colab-df-convert');\n",
              "        buttonEl.style.display =\n",
              "          google.colab.kernel.accessAllowed ? 'block' : 'none';\n",
              "\n",
              "        async function convertToInteractive(key) {\n",
              "          const element = document.querySelector('#df-20bc1a61-e7ad-4a36-9383-aedf94bb4a32');\n",
              "          const dataTable =\n",
              "            await google.colab.kernel.invokeFunction('convertToInteractive',\n",
              "                                                     [key], {});\n",
              "          if (!dataTable) return;\n",
              "\n",
              "          const docLinkHtml = 'Like what you see? Visit the ' +\n",
              "            '<a target=\"_blank\" href=https://colab.research.google.com/notebooks/data_table.ipynb>data table notebook</a>'\n",
              "            + ' to learn more about interactive tables.';\n",
              "          element.innerHTML = '';\n",
              "          dataTable['output_type'] = 'display_data';\n",
              "          await google.colab.output.renderOutput(dataTable, element);\n",
              "          const docLink = document.createElement('div');\n",
              "          docLink.innerHTML = docLinkHtml;\n",
              "          element.appendChild(docLink);\n",
              "        }\n",
              "      </script>\n",
              "    </div>\n",
              "  </div>\n",
              "  "
            ]
          },
          "metadata": {},
          "execution_count": 4
        }
      ]
    },
    {
      "cell_type": "code",
      "source": [
        "df.isnull().any()"
      ],
      "metadata": {
        "colab": {
          "base_uri": "https://localhost:8080/"
        },
        "id": "rJzWywuem1nm",
        "outputId": "ef33fe4d-164f-444d-eec9-a0d4b86e804a"
      },
      "execution_count": 9,
      "outputs": [
        {
          "output_type": "execute_result",
          "data": {
            "text/plain": [
              "Age            False\n",
              "Sex            False\n",
              "BP             False\n",
              "Cholesterol    False\n",
              "Na_to_K        False\n",
              "Drug           False\n",
              "dtype: bool"
            ]
          },
          "metadata": {},
          "execution_count": 9
        }
      ]
    },
    {
      "cell_type": "markdown",
      "source": [
        "####Preprocessing Dataset"
      ],
      "metadata": {
        "id": "yp5Kc8V2l9SX"
      }
    },
    {
      "cell_type": "code",
      "source": [
        "names=['Age','Na_to_K']\n",
        "for i,j in enumerate(names):\n",
        "  plt.figure(figsize=(6,12))\n",
        "  plt.subplot(4,1,i+1)\n",
        "  sns.boxplot(df[j])"
      ],
      "metadata": {
        "colab": {
          "base_uri": "https://localhost:8080/",
          "height": 505
        },
        "id": "4kYhLIjymFWa",
        "outputId": "50eca8e1-e966-48be-fc40-7de5381e82a3"
      },
      "execution_count": 10,
      "outputs": [
        {
          "output_type": "display_data",
          "data": {
            "text/plain": [
              "<Figure size 600x1200 with 1 Axes>"
            ],
            "image/png": "[encoded data removed]"
          },
          "metadata": {}
        },
        {
          "output_type": "display_data",
          "data": {
            "text/plain": [
              "<Figure size 600x1200 with 1 Axes>"
            ],
            "image/png": "[encoded data removed]"
          },
          "metadata": {}
        }
      ]
    },
    {
      "cell_type": "code",
      "source": [
        "x=df.iloc[:,0:5]\n",
        "x.head()"
      ],
      "metadata": {
        "colab": {
          "base_uri": "https://localhost:8080/",
          "height": 206
        },
        "id": "VOIbhuUBn4ep",
        "outputId": "6988379d-620b-489b-c2ac-21d8f4a67cf2"
      },
      "execution_count": 41,
      "outputs": [
        {
          "output_type": "execute_result",
          "data": {
            "text/plain": [
              "   Age Sex      BP Cholesterol  Na_to_K\n",
              "0   23   F    HIGH        HIGH   25.355\n",
              "1   47   M     LOW        HIGH   13.093\n",
              "2   47   M     LOW        HIGH   10.114\n",
              "3   28   F  NORMAL        HIGH    7.798\n",
              "4   61   F     LOW        HIGH   18.043"
            ],
            "text/html": [
              "\n",
              "  <div id=\"df-222d1d5b-1c63-428e-8f56-9f7a7194b4b6\">\n",
              "    <div class=\"colab-df-container\">\n",
              "      <div>\n",
              "<style scoped>\n",
              "    .dataframe tbody tr th:only-of-type {\n",
              "        vertical-align: middle;\n",
              "    }\n",
              "\n",
              "    .dataframe tbody tr th {\n",
              "        vertical-align: top;\n",
              "    }\n",
              "\n",
              "    .dataframe thead th {\n",
              "        text-align: right;\n",
              "    }\n",
              "</style>\n",
              "<table border=\"1\" class=\"dataframe\">\n",
              "  <thead>\n",
              "    <tr style=\"text-align: right;\">\n",
              "      <th></th>\n",
              "      <th>Age</th>\n",
              "      <th>Sex</th>\n",
              "      <th>BP</th>\n",
              "      <th>Cholesterol</th>\n",
              "      <th>Na_to_K</th>\n",
              "    </tr>\n",
              "  </thead>\n",
              "  <tbody>\n",
              "    <tr>\n",
              "      <th>0</th>\n",
              "      <td>23</td>\n",
              "      <td>F</td>\n",
              "      <td>HIGH</td>\n",
              "      <td>HIGH</td>\n",
              "      <td>25.355</td>\n",
              "    </tr>\n",
              "    <tr>\n",
              "      <th>1</th>\n",
              "      <td>47</td>\n",
              "      <td>M</td>\n",
              "      <td>LOW</td>\n",
              "      <td>HIGH</td>\n",
              "      <td>13.093</td>\n",
              "    </tr>\n",
              "    <tr>\n",
              "      <th>2</th>\n",
              "      <td>47</td>\n",
              "      <td>M</td>\n",
              "      <td>LOW</td>\n",
              "      <td>HIGH</td>\n",
              "      <td>10.114</td>\n",
              "    </tr>\n",
              "    <tr>\n",
              "      <th>3</th>\n",
              "      <td>28</td>\n",
              "      <td>F</td>\n",
              "      <td>NORMAL</td>\n",
              "      <td>HIGH</td>\n",
              "      <td>7.798</td>\n",
              "    </tr>\n",
              "    <tr>\n",
              "      <th>4</th>\n",
              "      <td>61</td>\n",
              "      <td>F</td>\n",
              "      <td>LOW</td>\n",
              "      <td>HIGH</td>\n",
              "      <td>18.043</td>\n",
              "    </tr>\n",
              "  </tbody>\n",
              "</table>\n",
              "</div>\n",
              "      <button class=\"colab-df-convert\" onclick=\"convertToInteractive('df-222d1d5b-1c63-428e-8f56-9f7a7194b4b6')\"\n",
              "              title=\"Convert this dataframe to an interactive table.\"\n",
              "              style=\"display:none;\">\n",
              "        \n",
              "  <svg xmlns=\"http://www.w3.org/2000/svg\" height=\"24px\"viewBox=\"0 0 24 24\"\n",
              "       width=\"24px\">\n",
              "    <path d=\"M0 0h24v24H0V0z\" fill=\"none\"/>\n",
              "    <path d=\"M18.56 5.44l.94 2.06.94-2.06 2.06-.94-2.06-.94-.94-2.06-.94 2.06-2.06.94zm-11 1L8.5 8.5l.94-2.06 2.06-.94-2.06-.94L8.5 2.5l-.94 2.06-2.06.94zm10 10l.94 2.06.94-2.06 2.06-.94-2.06-.94-.94-2.06-.94 2.06-2.06.94z\"/><path d=\"M17.41 7.96l-1.37-1.37c-.4-.4-.92-.59-1.43-.59-.52 0-1.04.2-1.43.59L10.3 9.45l-7.72 7.72c-.78.78-.78 2.05 0 2.83L4 21.41c.39.39.9.59 1.41.59.51 0 1.02-.2 1.41-.59l7.78-7.78 2.81-2.81c.8-.78.8-2.07 0-2.86zM5.41 20L4 18.59l7.72-7.72 1.47 1.35L5.41 20z\"/>\n",
              "  </svg>\n",
              "      </button>\n",
              "      \n",
              "  <style>\n",
              "    .colab-df-container {\n",
              "      display:flex;\n",
              "      flex-wrap:wrap;\n",
              "      gap: 12px;\n",
              "    }\n",
              "\n",
              "    .colab-df-convert {\n",
              "      background-color: #E8F0FE;\n",
              "      border: none;\n",
              "      border-radius: 50%;\n",
              "      cursor: pointer;\n",
              "      display: none;\n",
              "      fill: #1967D2;\n",
              "      height: 32px;\n",
              "      padding: 0 0 0 0;\n",
              "      width: 32px;\n",
              "    }\n",
              "\n",
              "    .colab-df-convert:hover {\n",
              "      background-color: #E2EBFA;\n",
              "      box-shadow: 0px 1px 2px rgba(60, 64, 67, 0.3), 0px 1px 3px 1px rgba(60, 64, 67, 0.15);\n",
              "      fill: #174EA6;\n",
              "    }\n",
              "\n",
              "    [theme=dark] .colab-df-convert {\n",
              "      background-color: #3B4455;\n",
              "      fill: #D2E3FC;\n",
              "    }\n",
              "\n",
              "    [theme=dark] .colab-df-convert:hover {\n",
              "      background-color: #434B5C;\n",
              "      box-shadow: 0px 1px 3px 1px rgba(0, 0, 0, 0.15);\n",
              "      filter: drop-shadow(0px 1px 2px rgba(0, 0, 0, 0.3));\n",
              "      fill: #FFFFFF;\n",
              "    }\n",
              "  </style>\n",
              "\n",
              "      <script>\n",
              "        const buttonEl =\n",
              "          document.querySelector('#df-222d1d5b-1c63-428e-8f56-9f7a7194b4b6 button.colab-df-convert');\n",
              "        buttonEl.style.display =\n",
              "          google.colab.kernel.accessAllowed ? 'block' : 'none';\n",
              "\n",
              "        async function convertToInteractive(key) {\n",
              "          const element = document.querySelector('#df-222d1d5b-1c63-428e-8f56-9f7a7194b4b6');\n",
              "          const dataTable =\n",
              "            await google.colab.kernel.invokeFunction('convertToInteractive',\n",
              "                                                     [key], {});\n",
              "          if (!dataTable) return;\n",
              "\n",
              "          const docLinkHtml = 'Like what you see? Visit the ' +\n",
              "            '<a target=\"_blank\" href=https://colab.research.google.com/notebooks/data_table.ipynb>data table notebook</a>'\n",
              "            + ' to learn more about interactive tables.';\n",
              "          element.innerHTML = '';\n",
              "          dataTable['output_type'] = 'display_data';\n",
              "          await google.colab.output.renderOutput(dataTable, element);\n",
              "          const docLink = document.createElement('div');\n",
              "          docLink.innerHTML = docLinkHtml;\n",
              "          element.appendChild(docLink);\n",
              "        }\n",
              "      </script>\n",
              "    </div>\n",
              "  </div>\n",
              "  "
            ]
          },
          "metadata": {},
          "execution_count": 41
        }
      ]
    },
    {
      "cell_type": "code",
      "source": [
        "y = pd.get_dummies(df.iloc[:,5:]).values\n",
        "y[0:5]"
      ],
      "metadata": {
        "colab": {
          "base_uri": "https://localhost:8080/"
        },
        "id": "ZsJPTwYloBe4",
        "outputId": "7b114343-3926-40f7-c67c-b6b37f421a00"
      },
      "execution_count": 37,
      "outputs": [
        {
          "output_type": "execute_result",
          "data": {
            "text/plain": [
              "array([[1, 0, 0, 0, 0],\n",
              "       [0, 0, 0, 1, 0],\n",
              "       [0, 0, 0, 1, 0],\n",
              "       [0, 0, 0, 0, 1],\n",
              "       [1, 0, 0, 0, 0]], dtype=uint8)"
            ]
          },
          "metadata": {},
          "execution_count": 37
        }
      ]
    },
    {
      "cell_type": "code",
      "source": [
        "xtrain,xtest,ytrain,ytest=train_test_split(x,y,test_size=0.2,random_state=12)"
      ],
      "metadata": {
        "id": "jOTS8By3oNDQ"
      },
      "execution_count": 42,
      "outputs": []
    },
    {
      "cell_type": "code",
      "source": [
        "le=LabelEncoder()"
      ],
      "metadata": {
        "id": "ShJgqviyosxu"
      },
      "execution_count": 43,
      "outputs": []
    },
    {
      "cell_type": "code",
      "source": [
        "xtrain['Sex']=le.fit_transform(xtrain['Sex'])\n",
        "xtest['Sex']=le.transform(xtest['Sex'])\n",
        "xtrain['BP']=le.fit_transform(xtrain['BP'])\n",
        "xtest['BP']=le.transform(xtest['BP'])\n",
        "xtrain['Cholesterol']=le.fit_transform(xtrain['Cholesterol'])\n",
        "xtest['Cholesterol']=le.transform(xtest['Cholesterol'])"
      ],
      "metadata": {
        "id": "bXyPBv04oSoj"
      },
      "execution_count": 44,
      "outputs": []
    },
    {
      "cell_type": "code",
      "source": [
        "xtrain.head()"
      ],
      "metadata": {
        "colab": {
          "base_uri": "https://localhost:8080/",
          "height": 206
        },
        "id": "tAFOk84Voy_R",
        "outputId": "a17f5859-8aa9-4d4d-b8c9-3ea3f77613d7"
      },
      "execution_count": 20,
      "outputs": [
        {
          "output_type": "execute_result",
          "data": {
            "text/plain": [
              "    Age  Sex  BP  Cholesterol  Na_to_K\n",
              "77   26    0   0            1   19.161\n",
              "47   68    1   1            0   10.291\n",
              "94   56    1   1            0   15.015\n",
              "14   50    0   2            0   12.703\n",
              "41   58    0   0            1   14.239"
            ],
            "text/html": [
              "\n",
              "  <div id=\"df-375258fe-d42e-4767-9f7d-a7b4bbabae1f\">\n",
              "    <div class=\"colab-df-container\">\n",
              "      <div>\n",
              "<style scoped>\n",
              "    .dataframe tbody tr th:only-of-type {\n",
              "        vertical-align: middle;\n",
              "    }\n",
              "\n",
              "    .dataframe tbody tr th {\n",
              "        vertical-align: top;\n",
              "    }\n",
              "\n",
              "    .dataframe thead th {\n",
              "        text-align: right;\n",
              "    }\n",
              "</style>\n",
              "<table border=\"1\" class=\"dataframe\">\n",
              "  <thead>\n",
              "    <tr style=\"text-align: right;\">\n",
              "      <th></th>\n",
              "      <th>Age</th>\n",
              "      <th>Sex</th>\n",
              "      <th>BP</th>\n",
              "      <th>Cholesterol</th>\n",
              "      <th>Na_to_K</th>\n",
              "    </tr>\n",
              "  </thead>\n",
              "  <tbody>\n",
              "    <tr>\n",
              "      <th>77</th>\n",
              "      <td>26</td>\n",
              "      <td>0</td>\n",
              "      <td>0</td>\n",
              "      <td>1</td>\n",
              "      <td>19.161</td>\n",
              "    </tr>\n",
              "    <tr>\n",
              "      <th>47</th>\n",
              "      <td>68</td>\n",
              "      <td>1</td>\n",
              "      <td>1</td>\n",
              "      <td>0</td>\n",
              "      <td>10.291</td>\n",
              "    </tr>\n",
              "    <tr>\n",
              "      <th>94</th>\n",
              "      <td>56</td>\n",
              "      <td>1</td>\n",
              "      <td>1</td>\n",
              "      <td>0</td>\n",
              "      <td>15.015</td>\n",
              "    </tr>\n",
              "    <tr>\n",
              "      <th>14</th>\n",
              "      <td>50</td>\n",
              "      <td>0</td>\n",
              "      <td>2</td>\n",
              "      <td>0</td>\n",
              "      <td>12.703</td>\n",
              "    </tr>\n",
              "    <tr>\n",
              "      <th>41</th>\n",
              "      <td>58</td>\n",
              "      <td>0</td>\n",
              "      <td>0</td>\n",
              "      <td>1</td>\n",
              "      <td>14.239</td>\n",
              "    </tr>\n",
              "  </tbody>\n",
              "</table>\n",
              "</div>\n",
              "      <button class=\"colab-df-convert\" onclick=\"convertToInteractive('df-375258fe-d42e-4767-9f7d-a7b4bbabae1f')\"\n",
              "              title=\"Convert this dataframe to an interactive table.\"\n",
              "              style=\"display:none;\">\n",
              "        \n",
              "  <svg xmlns=\"http://www.w3.org/2000/svg\" height=\"24px\"viewBox=\"0 0 24 24\"\n",
              "       width=\"24px\">\n",
              "    <path d=\"M0 0h24v24H0V0z\" fill=\"none\"/>\n",
              "    <path d=\"M18.56 5.44l.94 2.06.94-2.06 2.06-.94-2.06-.94-.94-2.06-.94 2.06-2.06.94zm-11 1L8.5 8.5l.94-2.06 2.06-.94-2.06-.94L8.5 2.5l-.94 2.06-2.06.94zm10 10l.94 2.06.94-2.06 2.06-.94-2.06-.94-.94-2.06-.94 2.06-2.06.94z\"/><path d=\"M17.41 7.96l-1.37-1.37c-.4-.4-.92-.59-1.43-.59-.52 0-1.04.2-1.43.59L10.3 9.45l-7.72 7.72c-.78.78-.78 2.05 0 2.83L4 21.41c.39.39.9.59 1.41.59.51 0 1.02-.2 1.41-.59l7.78-7.78 2.81-2.81c.8-.78.8-2.07 0-2.86zM5.41 20L4 18.59l7.72-7.72 1.47 1.35L5.41 20z\"/>\n",
              "  </svg>\n",
              "      </button>\n",
              "      \n",
              "  <style>\n",
              "    .colab-df-container {\n",
              "      display:flex;\n",
              "      flex-wrap:wrap;\n",
              "      gap: 12px;\n",
              "    }\n",
              "\n",
              "    .colab-df-convert {\n",
              "      background-color: #E8F0FE;\n",
              "      border: none;\n",
              "      border-radius: 50%;\n",
              "      cursor: pointer;\n",
              "      display: none;\n",
              "      fill: #1967D2;\n",
              "      height: 32px;\n",
              "      padding: 0 0 0 0;\n",
              "      width: 32px;\n",
              "    }\n",
              "\n",
              "    .colab-df-convert:hover {\n",
              "      background-color: #E2EBFA;\n",
              "      box-shadow: 0px 1px 2px rgba(60, 64, 67, 0.3), 0px 1px 3px 1px rgba(60, 64, 67, 0.15);\n",
              "      fill: #174EA6;\n",
              "    }\n",
              "\n",
              "    [theme=dark] .colab-df-convert {\n",
              "      background-color: #3B4455;\n",
              "      fill: #D2E3FC;\n",
              "    }\n",
              "\n",
              "    [theme=dark] .colab-df-convert:hover {\n",
              "      background-color: #434B5C;\n",
              "      box-shadow: 0px 1px 3px 1px rgba(0, 0, 0, 0.15);\n",
              "      filter: drop-shadow(0px 1px 2px rgba(0, 0, 0, 0.3));\n",
              "      fill: #FFFFFF;\n",
              "    }\n",
              "  </style>\n",
              "\n",
              "      <script>\n",
              "        const buttonEl =\n",
              "          document.querySelector('#df-375258fe-d42e-4767-9f7d-a7b4bbabae1f button.colab-df-convert');\n",
              "        buttonEl.style.display =\n",
              "          google.colab.kernel.accessAllowed ? 'block' : 'none';\n",
              "\n",
              "        async function convertToInteractive(key) {\n",
              "          const element = document.querySelector('#df-375258fe-d42e-4767-9f7d-a7b4bbabae1f');\n",
              "          const dataTable =\n",
              "            await google.colab.kernel.invokeFunction('convertToInteractive',\n",
              "                                                     [key], {});\n",
              "          if (!dataTable) return;\n",
              "\n",
              "          const docLinkHtml = 'Like what you see? Visit the ' +\n",
              "            '<a target=\"_blank\" href=https://colab.research.google.com/notebooks/data_table.ipynb>data table notebook</a>'\n",
              "            + ' to learn more about interactive tables.';\n",
              "          element.innerHTML = '';\n",
              "          dataTable['output_type'] = 'display_data';\n",
              "          await google.colab.output.renderOutput(dataTable, element);\n",
              "          const docLink = document.createElement('div');\n",
              "          docLink.innerHTML = docLinkHtml;\n",
              "          element.appendChild(docLink);\n",
              "        }\n",
              "      </script>\n",
              "    </div>\n",
              "  </div>\n",
              "  "
            ]
          },
          "metadata": {},
          "execution_count": 20
        }
      ]
    },
    {
      "cell_type": "code",
      "source": [
        "xtest.head()"
      ],
      "metadata": {
        "colab": {
          "base_uri": "https://localhost:8080/",
          "height": 206
        },
        "id": "UX9t23JXo3JL",
        "outputId": "ee7be34d-4743-463c-b8fc-f2a52636579d"
      },
      "execution_count": 21,
      "outputs": [
        {
          "output_type": "execute_result",
          "data": {
            "text/plain": [
              "     Age  Sex  BP  Cholesterol  Na_to_K\n",
              "23    48    0   1            0   15.036\n",
              "182   20    0   1            1   11.686\n",
              "172   39    0   2            1   17.225\n",
              "21    63    1   2            0   25.917\n",
              "63    45    1   1            1    8.370"
            ],
            "text/html": [
              "\n",
              "  <div id=\"df-dee30746-2e52-4048-a488-4a843c9a620d\">\n",
              "    <div class=\"colab-df-container\">\n",
              "      <div>\n",
              "<style scoped>\n",
              "    .dataframe tbody tr th:only-of-type {\n",
              "        vertical-align: middle;\n",
              "    }\n",
              "\n",
              "    .dataframe tbody tr th {\n",
              "        vertical-align: top;\n",
              "    }\n",
              "\n",
              "    .dataframe thead th {\n",
              "        text-align: right;\n",
              "    }\n",
              "</style>\n",
              "<table border=\"1\" class=\"dataframe\">\n",
              "  <thead>\n",
              "    <tr style=\"text-align: right;\">\n",
              "      <th></th>\n",
              "      <th>Age</th>\n",
              "      <th>Sex</th>\n",
              "      <th>BP</th>\n",
              "      <th>Cholesterol</th>\n",
              "      <th>Na_to_K</th>\n",
              "    </tr>\n",
              "  </thead>\n",
              "  <tbody>\n",
              "    <tr>\n",
              "      <th>23</th>\n",
              "      <td>48</td>\n",
              "      <td>0</td>\n",
              "      <td>1</td>\n",
              "      <td>0</td>\n",
              "      <td>15.036</td>\n",
              "    </tr>\n",
              "    <tr>\n",
              "      <th>182</th>\n",
              "      <td>20</td>\n",
              "      <td>0</td>\n",
              "      <td>1</td>\n",
              "      <td>1</td>\n",
              "      <td>11.686</td>\n",
              "    </tr>\n",
              "    <tr>\n",
              "      <th>172</th>\n",
              "      <td>39</td>\n",
              "      <td>0</td>\n",
              "      <td>2</td>\n",
              "      <td>1</td>\n",
              "      <td>17.225</td>\n",
              "    </tr>\n",
              "    <tr>\n",
              "      <th>21</th>\n",
              "      <td>63</td>\n",
              "      <td>1</td>\n",
              "      <td>2</td>\n",
              "      <td>0</td>\n",
              "      <td>25.917</td>\n",
              "    </tr>\n",
              "    <tr>\n",
              "      <th>63</th>\n",
              "      <td>45</td>\n",
              "      <td>1</td>\n",
              "      <td>1</td>\n",
              "      <td>1</td>\n",
              "      <td>8.370</td>\n",
              "    </tr>\n",
              "  </tbody>\n",
              "</table>\n",
              "</div>\n",
              "      <button class=\"colab-df-convert\" onclick=\"convertToInteractive('df-dee30746-2e52-4048-a488-4a843c9a620d')\"\n",
              "              title=\"Convert this dataframe to an interactive table.\"\n",
              "              style=\"display:none;\">\n",
              "        \n",
              "  <svg xmlns=\"http://www.w3.org/2000/svg\" height=\"24px\"viewBox=\"0 0 24 24\"\n",
              "       width=\"24px\">\n",
              "    <path d=\"M0 0h24v24H0V0z\" fill=\"none\"/>\n",
              "    <path d=\"M18.56 5.44l.94 2.06.94-2.06 2.06-.94-2.06-.94-.94-2.06-.94 2.06-2.06.94zm-11 1L8.5 8.5l.94-2.06 2.06-.94-2.06-.94L8.5 2.5l-.94 2.06-2.06.94zm10 10l.94 2.06.94-2.06 2.06-.94-2.06-.94-.94-2.06-.94 2.06-2.06.94z\"/><path d=\"M17.41 7.96l-1.37-1.37c-.4-.4-.92-.59-1.43-.59-.52 0-1.04.2-1.43.59L10.3 9.45l-7.72 7.72c-.78.78-.78 2.05 0 2.83L4 21.41c.39.39.9.59 1.41.59.51 0 1.02-.2 1.41-.59l7.78-7.78 2.81-2.81c.8-.78.8-2.07 0-2.86zM5.41 20L4 18.59l7.72-7.72 1.47 1.35L5.41 20z\"/>\n",
              "  </svg>\n",
              "      </button>\n",
              "      \n",
              "  <style>\n",
              "    .colab-df-container {\n",
              "      display:flex;\n",
              "      flex-wrap:wrap;\n",
              "      gap: 12px;\n",
              "    }\n",
              "\n",
              "    .colab-df-convert {\n",
              "      background-color: #E8F0FE;\n",
              "      border: none;\n",
              "      border-radius: 50%;\n",
              "      cursor: pointer;\n",
              "      display: none;\n",
              "      fill: #1967D2;\n",
              "      height: 32px;\n",
              "      padding: 0 0 0 0;\n",
              "      width: 32px;\n",
              "    }\n",
              "\n",
              "    .colab-df-convert:hover {\n",
              "      background-color: #E2EBFA;\n",
              "      box-shadow: 0px 1px 2px rgba(60, 64, 67, 0.3), 0px 1px 3px 1px rgba(60, 64, 67, 0.15);\n",
              "      fill: #174EA6;\n",
              "    }\n",
              "\n",
              "    [theme=dark] .colab-df-convert {\n",
              "      background-color: #3B4455;\n",
              "      fill: #D2E3FC;\n",
              "    }\n",
              "\n",
              "    [theme=dark] .colab-df-convert:hover {\n",
              "      background-color: #434B5C;\n",
              "      box-shadow: 0px 1px 3px 1px rgba(0, 0, 0, 0.15);\n",
              "      filter: drop-shadow(0px 1px 2px rgba(0, 0, 0, 0.3));\n",
              "      fill: #FFFFFF;\n",
              "    }\n",
              "  </style>\n",
              "\n",
              "      <script>\n",
              "        const buttonEl =\n",
              "          document.querySelector('#df-dee30746-2e52-4048-a488-4a843c9a620d button.colab-df-convert');\n",
              "        buttonEl.style.display =\n",
              "          google.colab.kernel.accessAllowed ? 'block' : 'none';\n",
              "\n",
              "        async function convertToInteractive(key) {\n",
              "          const element = document.querySelector('#df-dee30746-2e52-4048-a488-4a843c9a620d');\n",
              "          const dataTable =\n",
              "            await google.colab.kernel.invokeFunction('convertToInteractive',\n",
              "                                                     [key], {});\n",
              "          if (!dataTable) return;\n",
              "\n",
              "          const docLinkHtml = 'Like what you see? Visit the ' +\n",
              "            '<a target=\"_blank\" href=https://colab.research.google.com/notebooks/data_table.ipynb>data table notebook</a>'\n",
              "            + ' to learn more about interactive tables.';\n",
              "          element.innerHTML = '';\n",
              "          dataTable['output_type'] = 'display_data';\n",
              "          await google.colab.output.renderOutput(dataTable, element);\n",
              "          const docLink = document.createElement('div');\n",
              "          docLink.innerHTML = docLinkHtml;\n",
              "          element.appendChild(docLink);\n",
              "        }\n",
              "      </script>\n",
              "    </div>\n",
              "  </div>\n",
              "  "
            ]
          },
          "metadata": {},
          "execution_count": 21
        }
      ]
    },
    {
      "cell_type": "markdown",
      "source": [
        "#Building ANN Model"
      ],
      "metadata": {
        "id": "GlkjdAAGndZj"
      }
    },
    {
      "cell_type": "code",
      "source": [
        "model=Sequential()\n",
        "model.add(Dense(5,activation='relu'))\n",
        "model.add(Dense(32,activation='relu'))\n",
        "model.add(Dense(26,activation='relu'))\n",
        "model.add(Dense(18,activation='relu'))\n",
        "model.add(Dense(12,activation='relu'))\n",
        "model.add(Dense(5,activation='softmax'))"
      ],
      "metadata": {
        "id": "dew2eogxpi0V"
      },
      "execution_count": 45,
      "outputs": []
    },
    {
      "cell_type": "code",
      "source": [
        "model.compile(optimizer='adam',loss='categorical_crossentropy',metrics=['accuracy'])"
      ],
      "metadata": {
        "id": "Lc-7ro1DpxKx"
      },
      "execution_count": 46,
      "outputs": []
    },
    {
      "cell_type": "code",
      "source": [
        "model.fit(xtrain,ytrain,batch_size=4,epochs=100,validation_data=(xtest,ytest))"
      ],
      "metadata": {
        "colab": {
          "base_uri": "https://localhost:8080/"
        },
        "id": "s0TPIlPQrmkg",
        "outputId": "54cba1ac-fcf3-4894-ccb3-7ecbd214a5cc"
      },
      "execution_count": 49,
      "outputs": [
        {
          "output_type": "stream",
          "name": "stdout",
          "text": [
            "Epoch 1/100\n",
            "40/40 [==============================] - 0s 4ms/step - loss: 0.5652 - accuracy: 0.7625 - val_loss: 0.5778 - val_accuracy: 0.7750\n",
            "Epoch 2/100\n",
            "40/40 [==============================] - 0s 3ms/step - loss: 0.4854 - accuracy: 0.8000 - val_loss: 0.5457 - val_accuracy: 0.7750\n",
            "Epoch 3/100\n",
            "40/40 [==============================] - 0s 3ms/step - loss: 0.4714 - accuracy: 0.7937 - val_loss: 0.5205 - val_accuracy: 0.8000\n",
            "Epoch 4/100\n",
            "40/40 [==============================] - 0s 3ms/step - loss: 0.4848 - accuracy: 0.8125 - val_loss: 0.5786 - val_accuracy: 0.7750\n",
            "Epoch 5/100\n",
            "40/40 [==============================] - 0s 3ms/step - loss: 0.4610 - accuracy: 0.8250 - val_loss: 0.5131 - val_accuracy: 0.8000\n",
            "Epoch 6/100\n",
            "40/40 [==============================] - 0s 4ms/step - loss: 0.4874 - accuracy: 0.8062 - val_loss: 0.5320 - val_accuracy: 0.8500\n",
            "Epoch 7/100\n",
            "40/40 [==============================] - 0s 4ms/step - loss: 0.4510 - accuracy: 0.8000 - val_loss: 0.4921 - val_accuracy: 0.8250\n",
            "Epoch 8/100\n",
            "40/40 [==============================] - 0s 5ms/step - loss: 0.4919 - accuracy: 0.7875 - val_loss: 0.5547 - val_accuracy: 0.8500\n",
            "Epoch 9/100\n",
            "40/40 [==============================] - 0s 4ms/step - loss: 0.4986 - accuracy: 0.7750 - val_loss: 0.5851 - val_accuracy: 0.7500\n",
            "Epoch 10/100\n",
            "40/40 [==============================] - 0s 3ms/step - loss: 0.4468 - accuracy: 0.8188 - val_loss: 0.5017 - val_accuracy: 0.8000\n",
            "Epoch 11/100\n",
            "40/40 [==============================] - 0s 3ms/step - loss: 0.4292 - accuracy: 0.8500 - val_loss: 0.5928 - val_accuracy: 0.7750\n",
            "Epoch 12/100\n",
            "40/40 [==============================] - 0s 6ms/step - loss: 0.4730 - accuracy: 0.8188 - val_loss: 0.5219 - val_accuracy: 0.8000\n",
            "Epoch 13/100\n",
            "40/40 [==============================] - 0s 6ms/step - loss: 0.4201 - accuracy: 0.8188 - val_loss: 0.5523 - val_accuracy: 0.7500\n",
            "Epoch 14/100\n",
            "40/40 [==============================] - 0s 5ms/step - loss: 0.4230 - accuracy: 0.8250 - val_loss: 0.4872 - val_accuracy: 0.7750\n",
            "Epoch 15/100\n",
            "40/40 [==============================] - 0s 5ms/step - loss: 0.4175 - accuracy: 0.8250 - val_loss: 0.7594 - val_accuracy: 0.7000\n",
            "Epoch 16/100\n",
            "40/40 [==============================] - 0s 5ms/step - loss: 0.3947 - accuracy: 0.8313 - val_loss: 0.4710 - val_accuracy: 0.8500\n",
            "Epoch 17/100\n",
            "40/40 [==============================] - 0s 5ms/step - loss: 0.4020 - accuracy: 0.8125 - val_loss: 0.5037 - val_accuracy: 0.8250\n",
            "Epoch 18/100\n",
            "40/40 [==============================] - 0s 5ms/step - loss: 0.3750 - accuracy: 0.8687 - val_loss: 0.4012 - val_accuracy: 0.8750\n",
            "Epoch 19/100\n",
            "40/40 [==============================] - 0s 6ms/step - loss: 0.3846 - accuracy: 0.8438 - val_loss: 0.5891 - val_accuracy: 0.7250\n",
            "Epoch 20/100\n",
            "40/40 [==============================] - 0s 5ms/step - loss: 0.3549 - accuracy: 0.8750 - val_loss: 0.4367 - val_accuracy: 0.8000\n",
            "Epoch 21/100\n",
            "40/40 [==============================] - 0s 6ms/step - loss: 0.3649 - accuracy: 0.8500 - val_loss: 0.5420 - val_accuracy: 0.8000\n",
            "Epoch 22/100\n",
            "40/40 [==============================] - 0s 6ms/step - loss: 0.3365 - accuracy: 0.8562 - val_loss: 0.3897 - val_accuracy: 0.8750\n",
            "Epoch 23/100\n",
            "40/40 [==============================] - 0s 7ms/step - loss: 0.3226 - accuracy: 0.8625 - val_loss: 0.6016 - val_accuracy: 0.7250\n",
            "Epoch 24/100\n",
            "40/40 [==============================] - 0s 6ms/step - loss: 0.3647 - accuracy: 0.8438 - val_loss: 0.4418 - val_accuracy: 0.8000\n",
            "Epoch 25/100\n",
            "40/40 [==============================] - 0s 4ms/step - loss: 0.3181 - accuracy: 0.8813 - val_loss: 0.4421 - val_accuracy: 0.7750\n",
            "Epoch 26/100\n",
            "40/40 [==============================] - 0s 3ms/step - loss: 0.3064 - accuracy: 0.8438 - val_loss: 0.4536 - val_accuracy: 0.8250\n",
            "Epoch 27/100\n",
            "40/40 [==============================] - 0s 4ms/step - loss: 0.4135 - accuracy: 0.8000 - val_loss: 0.7651 - val_accuracy: 0.7250\n",
            "Epoch 28/100\n",
            "40/40 [==============================] - 0s 4ms/step - loss: 0.4048 - accuracy: 0.8625 - val_loss: 0.4970 - val_accuracy: 0.7750\n",
            "Epoch 29/100\n",
            "40/40 [==============================] - 0s 3ms/step - loss: 0.3282 - accuracy: 0.8562 - val_loss: 0.4424 - val_accuracy: 0.7500\n",
            "Epoch 30/100\n",
            "40/40 [==============================] - 0s 3ms/step - loss: 0.2819 - accuracy: 0.8938 - val_loss: 0.4480 - val_accuracy: 0.8500\n",
            "Epoch 31/100\n",
            "40/40 [==============================] - 0s 4ms/step - loss: 0.3034 - accuracy: 0.8938 - val_loss: 0.4788 - val_accuracy: 0.8000\n",
            "Epoch 32/100\n",
            "40/40 [==============================] - 0s 3ms/step - loss: 0.3184 - accuracy: 0.8750 - val_loss: 0.6159 - val_accuracy: 0.7000\n",
            "Epoch 33/100\n",
            "40/40 [==============================] - 0s 4ms/step - loss: 0.3308 - accuracy: 0.8500 - val_loss: 0.3545 - val_accuracy: 0.8500\n",
            "Epoch 34/100\n",
            "40/40 [==============================] - 0s 3ms/step - loss: 0.3274 - accuracy: 0.8687 - val_loss: 0.3386 - val_accuracy: 0.8750\n",
            "Epoch 35/100\n",
            "40/40 [==============================] - 0s 4ms/step - loss: 0.3371 - accuracy: 0.8562 - val_loss: 0.3712 - val_accuracy: 0.8750\n",
            "Epoch 36/100\n",
            "40/40 [==============================] - 0s 3ms/step - loss: 0.2701 - accuracy: 0.9000 - val_loss: 0.5099 - val_accuracy: 0.8000\n",
            "Epoch 37/100\n",
            "40/40 [==============================] - 0s 3ms/step - loss: 0.2680 - accuracy: 0.8813 - val_loss: 0.3338 - val_accuracy: 0.8500\n",
            "Epoch 38/100\n",
            "40/40 [==============================] - 0s 3ms/step - loss: 0.3091 - accuracy: 0.8625 - val_loss: 0.5675 - val_accuracy: 0.7750\n",
            "Epoch 39/100\n",
            "40/40 [==============================] - 0s 3ms/step - loss: 0.3266 - accuracy: 0.8562 - val_loss: 0.4174 - val_accuracy: 0.8500\n",
            "Epoch 40/100\n",
            "40/40 [==============================] - 0s 4ms/step - loss: 0.2404 - accuracy: 0.9062 - val_loss: 0.5052 - val_accuracy: 0.7750\n",
            "Epoch 41/100\n",
            "40/40 [==============================] - 0s 4ms/step - loss: 0.2958 - accuracy: 0.8687 - val_loss: 0.3227 - val_accuracy: 0.8750\n",
            "Epoch 42/100\n",
            "40/40 [==============================] - 0s 4ms/step - loss: 0.2755 - accuracy: 0.8813 - val_loss: 0.3543 - val_accuracy: 0.8000\n",
            "Epoch 43/100\n",
            "40/40 [==============================] - 0s 3ms/step - loss: 0.3185 - accuracy: 0.8500 - val_loss: 0.3232 - val_accuracy: 0.8500\n",
            "Epoch 44/100\n",
            "40/40 [==============================] - 0s 3ms/step - loss: 0.2927 - accuracy: 0.8750 - val_loss: 0.3602 - val_accuracy: 0.8250\n",
            "Epoch 45/100\n",
            "40/40 [==============================] - 0s 3ms/step - loss: 0.2707 - accuracy: 0.8813 - val_loss: 0.3327 - val_accuracy: 0.9000\n",
            "Epoch 46/100\n",
            "40/40 [==============================] - 0s 3ms/step - loss: 0.2581 - accuracy: 0.8750 - val_loss: 0.3704 - val_accuracy: 0.8500\n",
            "Epoch 47/100\n",
            "40/40 [==============================] - 0s 3ms/step - loss: 0.3639 - accuracy: 0.8625 - val_loss: 0.5401 - val_accuracy: 0.7250\n",
            "Epoch 48/100\n",
            "40/40 [==============================] - 0s 3ms/step - loss: 0.3035 - accuracy: 0.8562 - val_loss: 0.3937 - val_accuracy: 0.8500\n",
            "Epoch 49/100\n",
            "40/40 [==============================] - 0s 3ms/step - loss: 0.2606 - accuracy: 0.9250 - val_loss: 0.6226 - val_accuracy: 0.7750\n",
            "Epoch 50/100\n",
            "40/40 [==============================] - 0s 3ms/step - loss: 0.4002 - accuracy: 0.8625 - val_loss: 0.3497 - val_accuracy: 0.9000\n",
            "Epoch 51/100\n",
            "40/40 [==============================] - 0s 3ms/step - loss: 0.2336 - accuracy: 0.9125 - val_loss: 0.3241 - val_accuracy: 0.9250\n",
            "Epoch 52/100\n",
            "40/40 [==============================] - 0s 3ms/step - loss: 0.2696 - accuracy: 0.8813 - val_loss: 0.6296 - val_accuracy: 0.7000\n",
            "Epoch 53/100\n",
            "40/40 [==============================] - 0s 3ms/step - loss: 0.2781 - accuracy: 0.8625 - val_loss: 0.3210 - val_accuracy: 0.8250\n",
            "Epoch 54/100\n",
            "40/40 [==============================] - 0s 4ms/step - loss: 0.2531 - accuracy: 0.8750 - val_loss: 0.4061 - val_accuracy: 0.8250\n",
            "Epoch 55/100\n",
            "40/40 [==============================] - 0s 3ms/step - loss: 0.2479 - accuracy: 0.9125 - val_loss: 0.4170 - val_accuracy: 0.8000\n",
            "Epoch 56/100\n",
            "40/40 [==============================] - 0s 4ms/step - loss: 0.2605 - accuracy: 0.9000 - val_loss: 0.5191 - val_accuracy: 0.7750\n",
            "Epoch 57/100\n",
            "40/40 [==============================] - 0s 4ms/step - loss: 0.2041 - accuracy: 0.9375 - val_loss: 0.4610 - val_accuracy: 0.7750\n",
            "Epoch 58/100\n",
            "40/40 [==============================] - 0s 4ms/step - loss: 0.1881 - accuracy: 0.9500 - val_loss: 0.2980 - val_accuracy: 0.8750\n",
            "Epoch 59/100\n",
            "40/40 [==============================] - 0s 4ms/step - loss: 0.2182 - accuracy: 0.8875 - val_loss: 0.3119 - val_accuracy: 0.8750\n",
            "Epoch 60/100\n",
            "40/40 [==============================] - 0s 4ms/step - loss: 0.2317 - accuracy: 0.9000 - val_loss: 0.3122 - val_accuracy: 0.8750\n",
            "Epoch 61/100\n",
            "40/40 [==============================] - 0s 3ms/step - loss: 0.2243 - accuracy: 0.9062 - val_loss: 0.3090 - val_accuracy: 0.8250\n",
            "Epoch 62/100\n",
            "40/40 [==============================] - 0s 4ms/step - loss: 0.2475 - accuracy: 0.8938 - val_loss: 0.5557 - val_accuracy: 0.7750\n",
            "Epoch 63/100\n",
            "40/40 [==============================] - 0s 4ms/step - loss: 0.2546 - accuracy: 0.8687 - val_loss: 0.3485 - val_accuracy: 0.8000\n",
            "Epoch 64/100\n",
            "40/40 [==============================] - 0s 3ms/step - loss: 0.1932 - accuracy: 0.9312 - val_loss: 0.5288 - val_accuracy: 0.7500\n",
            "Epoch 65/100\n",
            "40/40 [==============================] - 0s 4ms/step - loss: 0.3210 - accuracy: 0.8687 - val_loss: 0.3798 - val_accuracy: 0.8000\n",
            "Epoch 66/100\n",
            "40/40 [==============================] - 0s 4ms/step - loss: 0.2963 - accuracy: 0.8813 - val_loss: 0.2565 - val_accuracy: 0.8750\n",
            "Epoch 67/100\n",
            "40/40 [==============================] - 0s 4ms/step - loss: 0.2489 - accuracy: 0.9000 - val_loss: 0.4477 - val_accuracy: 0.8000\n",
            "Epoch 68/100\n",
            "40/40 [==============================] - 0s 4ms/step - loss: 0.1820 - accuracy: 0.9500 - val_loss: 0.4536 - val_accuracy: 0.7750\n",
            "Epoch 69/100\n",
            "40/40 [==============================] - 0s 4ms/step - loss: 0.2055 - accuracy: 0.9312 - val_loss: 0.2848 - val_accuracy: 0.8500\n",
            "Epoch 70/100\n",
            "40/40 [==============================] - 0s 4ms/step - loss: 0.1759 - accuracy: 0.9312 - val_loss: 0.2606 - val_accuracy: 0.9000\n",
            "Epoch 71/100\n",
            "40/40 [==============================] - 0s 3ms/step - loss: 0.1775 - accuracy: 0.9563 - val_loss: 0.3357 - val_accuracy: 0.8500\n",
            "Epoch 72/100\n",
            "40/40 [==============================] - 0s 3ms/step - loss: 0.1844 - accuracy: 0.9438 - val_loss: 0.4047 - val_accuracy: 0.7750\n",
            "Epoch 73/100\n",
            "40/40 [==============================] - 0s 3ms/step - loss: 0.2568 - accuracy: 0.8938 - val_loss: 0.3041 - val_accuracy: 0.8250\n",
            "Epoch 74/100\n",
            "40/40 [==============================] - 0s 3ms/step - loss: 0.1614 - accuracy: 0.9375 - val_loss: 0.2336 - val_accuracy: 0.9250\n",
            "Epoch 75/100\n",
            "40/40 [==============================] - 0s 3ms/step - loss: 0.1816 - accuracy: 0.9312 - val_loss: 0.2707 - val_accuracy: 0.8250\n",
            "Epoch 76/100\n",
            "40/40 [==============================] - 0s 3ms/step - loss: 0.2105 - accuracy: 0.9062 - val_loss: 0.2661 - val_accuracy: 0.8750\n",
            "Epoch 77/100\n",
            "40/40 [==============================] - 0s 3ms/step - loss: 0.1866 - accuracy: 0.9312 - val_loss: 0.2604 - val_accuracy: 0.9250\n",
            "Epoch 78/100\n",
            "40/40 [==============================] - 0s 3ms/step - loss: 0.1826 - accuracy: 0.9312 - val_loss: 0.4319 - val_accuracy: 0.7500\n",
            "Epoch 79/100\n",
            "40/40 [==============================] - 0s 4ms/step - loss: 0.1993 - accuracy: 0.9375 - val_loss: 0.2711 - val_accuracy: 0.8750\n",
            "Epoch 80/100\n",
            "40/40 [==============================] - 0s 4ms/step - loss: 0.1645 - accuracy: 0.9250 - val_loss: 0.3452 - val_accuracy: 0.8000\n",
            "Epoch 81/100\n",
            "40/40 [==============================] - 0s 4ms/step - loss: 0.1817 - accuracy: 0.9375 - val_loss: 0.3889 - val_accuracy: 0.8500\n",
            "Epoch 82/100\n",
            "40/40 [==============================] - 0s 4ms/step - loss: 0.1622 - accuracy: 0.9812 - val_loss: 0.2168 - val_accuracy: 0.9250\n",
            "Epoch 83/100\n",
            "40/40 [==============================] - 0s 4ms/step - loss: 0.1575 - accuracy: 0.9563 - val_loss: 0.2186 - val_accuracy: 0.8750\n",
            "Epoch 84/100\n",
            "40/40 [==============================] - 0s 3ms/step - loss: 0.1482 - accuracy: 0.9625 - val_loss: 0.3386 - val_accuracy: 0.8500\n",
            "Epoch 85/100\n",
            "40/40 [==============================] - 0s 3ms/step - loss: 0.1758 - accuracy: 0.9438 - val_loss: 0.5055 - val_accuracy: 0.8250\n",
            "Epoch 86/100\n",
            "40/40 [==============================] - 0s 3ms/step - loss: 0.2425 - accuracy: 0.8938 - val_loss: 0.3980 - val_accuracy: 0.8000\n",
            "Epoch 87/100\n",
            "40/40 [==============================] - 0s 3ms/step - loss: 0.1628 - accuracy: 0.9375 - val_loss: 0.2576 - val_accuracy: 0.9000\n",
            "Epoch 88/100\n",
            "40/40 [==============================] - 0s 3ms/step - loss: 0.1558 - accuracy: 0.9375 - val_loss: 0.2937 - val_accuracy: 0.8250\n",
            "Epoch 89/100\n",
            "40/40 [==============================] - 0s 3ms/step - loss: 0.1497 - accuracy: 0.9438 - val_loss: 0.4419 - val_accuracy: 0.7500\n",
            "Epoch 90/100\n",
            "40/40 [==============================] - 0s 3ms/step - loss: 0.2251 - accuracy: 0.8875 - val_loss: 0.2068 - val_accuracy: 0.9250\n",
            "Epoch 91/100\n",
            "40/40 [==============================] - 0s 3ms/step - loss: 0.2339 - accuracy: 0.9062 - val_loss: 0.5042 - val_accuracy: 0.8250\n",
            "Epoch 92/100\n",
            "40/40 [==============================] - 0s 6ms/step - loss: 0.2866 - accuracy: 0.9125 - val_loss: 0.1947 - val_accuracy: 0.9500\n",
            "Epoch 93/100\n",
            "40/40 [==============================] - 0s 7ms/step - loss: 0.1572 - accuracy: 0.9500 - val_loss: 0.1906 - val_accuracy: 0.9500\n",
            "Epoch 94/100\n",
            "40/40 [==============================] - 0s 6ms/step - loss: 0.1681 - accuracy: 0.9438 - val_loss: 0.2964 - val_accuracy: 0.8750\n",
            "Epoch 95/100\n",
            "40/40 [==============================] - 0s 7ms/step - loss: 0.1500 - accuracy: 0.9438 - val_loss: 0.2018 - val_accuracy: 0.9500\n",
            "Epoch 96/100\n",
            "40/40 [==============================] - 0s 7ms/step - loss: 0.1648 - accuracy: 0.9375 - val_loss: 0.2508 - val_accuracy: 0.9000\n",
            "Epoch 97/100\n",
            "40/40 [==============================] - 0s 7ms/step - loss: 0.1421 - accuracy: 0.9500 - val_loss: 0.3576 - val_accuracy: 0.8000\n",
            "Epoch 98/100\n",
            "40/40 [==============================] - 0s 6ms/step - loss: 0.1361 - accuracy: 0.9563 - val_loss: 0.3310 - val_accuracy: 0.8500\n",
            "Epoch 99/100\n",
            "40/40 [==============================] - 0s 7ms/step - loss: 0.1331 - accuracy: 0.9563 - val_loss: 0.2207 - val_accuracy: 0.9250\n",
            "Epoch 100/100\n",
            "40/40 [==============================] - 0s 7ms/step - loss: 0.1381 - accuracy: 0.9625 - val_loss: 0.1984 - val_accuracy: 0.9000\n"
          ]
        },
        {
          "output_type": "execute_result",
          "data": {
            "text/plain": [
              "<keras.callbacks.History at 0x7f4707cdfa30>"
            ]
          },
          "metadata": {},
          "execution_count": 49
        }
      ]
    },
    {
      "cell_type": "markdown",
      "source": [
        "#Testing Model with Random Data"
      ],
      "metadata": {
        "id": "wbNwGauDr_LS"
      }
    },
    {
      "cell_type": "code",
      "source": [
        "pred=model.predict([[34,1,2,1,15.015]])"
      ],
      "metadata": {
        "colab": {
          "base_uri": "https://localhost:8080/"
        },
        "id": "7Fox_6h4sK55",
        "outputId": "5db6b880-f01e-4135-d8b3-1c315c0c7868"
      },
      "execution_count": 60,
      "outputs": [
        {
          "output_type": "stream",
          "name": "stdout",
          "text": [
            "1/1 [==============================] - 0s 52ms/step\n"
          ]
        }
      ]
    },
    {
      "cell_type": "code",
      "source": [
        "pred"
      ],
      "metadata": {
        "colab": {
          "base_uri": "https://localhost:8080/"
        },
        "id": "9m51OqnAwg-z",
        "outputId": "d8fd81a3-8cbc-41e5-9f11-8dc57fcd384e"
      },
      "execution_count": 62,
      "outputs": [
        {
          "output_type": "execute_result",
          "data": {
            "text/plain": [
              "array([[1.3259847e-02, 2.5316969e-09, 5.5335221e-09, 3.4681259e-04,\n",
              "        9.8639327e-01]], dtype=float32)"
            ]
          },
          "metadata": {},
          "execution_count": 62
        }
      ]
    },
    {
      "cell_type": "code",
      "source": [
        "pred\n",
        "prob=np.array(pred[0])\n",
        "max=prob.argmax()\n",
        "if(max==0):\n",
        " print('DrugY')\n",
        "elif(max==1):\n",
        "  print('drugA')\n",
        "elif(max==2):\n",
        "  print('drugB')\n",
        "elif(max==3):\n",
        "  print('drugC')\n",
        "elif(max==4):\n",
        "  print('drugX')\n"
      ],
      "metadata": {
        "colab": {
          "base_uri": "https://localhost:8080/"
        },
        "id": "rXkXqbNAu_AM",
        "outputId": "0f508953-0bf0-4e23-e49b-98256f0d60bb"
      },
      "execution_count": 61,
      "outputs": [
        {
          "output_type": "stream",
          "name": "stdout",
          "text": [
            "drugX\n"
          ]
        }
      ]
    }
  ]
}