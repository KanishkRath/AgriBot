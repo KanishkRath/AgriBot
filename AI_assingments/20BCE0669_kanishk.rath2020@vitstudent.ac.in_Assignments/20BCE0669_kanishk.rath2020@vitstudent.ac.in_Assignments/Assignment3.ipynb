{
  "nbformat": 4,
  "nbformat_minor": 0,
  "metadata": {
    "colab": {
      "provenance": []
    },
    "kernelspec": {
      "name": "python3",
      "display_name": "Python 3"
    },
    "language_info": {
      "name": "python"
    }
  },
  "cells": [
    {
      "cell_type": "code",
      "execution_count": 1,
      "metadata": {
        "id": "jbF9zpZQ9pLq",
        "colab": {
          "base_uri": "https://localhost:8080/"
        },
        "outputId": "2cfafd14-5b8e-4714-8dba-3a438b406399"
      },
      "outputs": [
        {
          "output_type": "stream",
          "name": "stdout",
          "text": [
            "Looking in indexes: https://pypi.org/simple, https://us-python.pkg.dev/colab-wheels/public/simple/\n",
            "Requirement already satisfied: kaggle in /usr/local/lib/python3.10/dist-packages (1.5.13)\n",
            "Requirement already satisfied: six>=1.10 in /usr/local/lib/python3.10/dist-packages (from kaggle) (1.16.0)\n",
            "Requirement already satisfied: certifi in /usr/local/lib/python3.10/dist-packages (from kaggle) (2022.12.7)\n",
            "Requirement already satisfied: python-dateutil in /usr/local/lib/python3.10/dist-packages (from kaggle) (2.8.2)\n",
            "Requirement already satisfied: requests in /usr/local/lib/python3.10/dist-packages (from kaggle) (2.27.1)\n",
            "Requirement already satisfied: tqdm in /usr/local/lib/python3.10/dist-packages (from kaggle) (4.65.0)\n",
            "Requirement already satisfied: python-slugify in /usr/local/lib/python3.10/dist-packages (from kaggle) (8.0.1)\n",
            "Requirement already satisfied: urllib3 in /usr/local/lib/python3.10/dist-packages (from kaggle) (1.26.15)\n",
            "Requirement already satisfied: text-unidecode>=1.3 in /usr/local/lib/python3.10/dist-packages (from python-slugify->kaggle) (1.3)\n",
            "Requirement already satisfied: charset-normalizer~=2.0.0 in /usr/local/lib/python3.10/dist-packages (from requests->kaggle) (2.0.12)\n",
            "Requirement already satisfied: idna<4,>=2.5 in /usr/local/lib/python3.10/dist-packages (from requests->kaggle) (3.4)\n"
          ]
        }
      ],
      "source": [
        "! pip install kaggle\n",
        "! mkdir ~/.kaggle"
      ]
    },
    {
      "cell_type": "code",
      "source": [
        " cp kaggle.json ~/.kaggle/"
      ],
      "metadata": {
        "id": "zvzx6EzwF_4_"
      },
      "execution_count": 2,
      "outputs": []
    },
    {
      "cell_type": "code",
      "source": [
        "! chmod 600 ~/.kaggle/kaggle.json"
      ],
      "metadata": {
        "id": "OXw3Lk_mJ6UD"
      },
      "execution_count": 3,
      "outputs": []
    },
    {
      "cell_type": "code",
      "source": [
        "! kaggle datasets download akash2907/bird-species-classification"
      ],
      "metadata": {
        "colab": {
          "base_uri": "https://localhost:8080/"
        },
        "id": "EyOtQzwYKM-8",
        "outputId": "9247659d-d5f7-4007-b577-2dd967fcbce5"
      },
      "execution_count": 4,
      "outputs": [
        {
          "output_type": "stream",
          "name": "stdout",
          "text": [
            "Downloading bird-species-classification.zip to /content\n",
            " 99% 1.35G/1.37G [00:13<00:00, 116MB/s] \n",
            "100% 1.37G/1.37G [00:13<00:00, 112MB/s]\n"
          ]
        }
      ]
    },
    {
      "cell_type": "code",
      "source": [
        "!unzip /content/bird-species-classification.zip"
      ],
      "metadata": {
        "id": "PrfEOC5siG8P",
        "outputId": "8d538fe1-2cbb-4dd8-902d-415e87530958",
        "colab": {
          "base_uri": "https://localhost:8080/"
        }
      },
      "execution_count": 5,
      "outputs": [
        {
          "output_type": "stream",
          "name": "stdout",
          "text": [
            "Archive:  /content/bird-species-classification.zip\n",
            "  inflating: test_data/test_data/blasti/DSC_6396.jpg  \n",
            "  inflating: test_data/test_data/blasti/DSC_6397.jpg  \n",
            "  inflating: test_data/test_data/blasti/DSC_6398.jpg  \n",
            "  inflating: test_data/test_data/blasti/DSC_6399.jpg  \n",
            "  inflating: test_data/test_data/blasti/DSC_6400.jpg  \n",
            "  inflating: test_data/test_data/blasti/DSC_6401.jpg  \n",
            "  inflating: test_data/test_data/blasti/DSC_6402.jpg  \n",
            "  inflating: test_data/test_data/blasti/DSC_6403.jpg  \n",
            "  inflating: test_data/test_data/blasti/DSC_6405.jpg  \n",
            "  inflating: test_data/test_data/blasti/DSC_6406.jpg  \n",
            "  inflating: test_data/test_data/blasti/DSC_6407.jpg  \n",
            "  inflating: test_data/test_data/blasti/DSC_6408.jpg  \n",
            "  inflating: test_data/test_data/blasti/DSC_6409.jpg  \n",
            "  inflating: test_data/test_data/blasti/DSC_6410.jpg  \n",
            "  inflating: test_data/test_data/blasti/DSC_6411.jpg  \n",
            "  inflating: test_data/test_data/bonegl/DSC_4587.jpg  \n",
            "  inflating: test_data/test_data/bonegl/DSC_4588.jpg  \n",
            "  inflating: test_data/test_data/bonegl/DSC_4589.jpg  \n",
            "  inflating: test_data/test_data/bonegl/DSC_4590.jpg  \n",
            "  inflating: test_data/test_data/bonegl/DSC_4591.jpg  \n",
            "  inflating: test_data/test_data/bonegl/DSC_4592.jpg  \n",
            "  inflating: test_data/test_data/bonegl/DSC_4593.jpg  \n",
            "  inflating: test_data/test_data/brhkyt/D72_0473.jpg  \n",
            "  inflating: test_data/test_data/brhkyt/D72_0474.jpg  \n",
            "  inflating: test_data/test_data/brhkyt/D72_0475.jpg  \n",
            "  inflating: test_data/test_data/brhkyt/D72_0477.jpg  \n",
            "  inflating: test_data/test_data/brhkyt/D72_0478.jpg  \n",
            "  inflating: test_data/test_data/brhkyt/D72_0479.jpg  \n",
            "  inflating: test_data/test_data/cbrtsh/_D32_10310.jpg  \n",
            "  inflating: test_data/test_data/cbrtsh/_D32_10311.jpg  \n",
            "  inflating: test_data/test_data/cbrtsh/_D32_10312.jpg  \n",
            "  inflating: test_data/test_data/cbrtsh/_D32_10313.jpg  \n",
            "  inflating: test_data/test_data/cbrtsh/_D32_10314.jpg  \n",
            "  inflating: test_data/test_data/cbrtsh/_D32_10317.jpg  \n",
            "  inflating: test_data/test_data/cbrtsh/_D32_10318.jpg  \n",
            "  inflating: test_data/test_data/cmnmyn/DSC_2443.jpg  \n",
            "  inflating: test_data/test_data/cmnmyn/DSC_4681.jpg  \n",
            "  inflating: test_data/test_data/cmnmyn/DSC_5137.jpg  \n",
            "  inflating: test_data/test_data/cmnmyn/DSC_7625.jpg  \n",
            "  inflating: test_data/test_data/cmnmyn/P1050277.jpg  \n",
            "  inflating: test_data/test_data/cmnmyn/_D32_12426.jpg  \n",
            "  inflating: test_data/test_data/cmnmyn/_D32_12427.jpg  \n",
            "  inflating: test_data/test_data/cmnmyn/_D32_12428.jpg  \n",
            "  inflating: test_data/test_data/gretit/11620454726_31a35c26da_o.jpg  \n",
            "  inflating: test_data/test_data/gretit/11776135285_ccf938fa2e_o.jpg  \n",
            "  inflating: test_data/test_data/gretit/11905645146_6a5d4ff9f9_o.jpg  \n",
            "  inflating: test_data/test_data/gretit/8537646712_0b282c4c6a_o.jpg  \n",
            "  inflating: test_data/test_data/gretit/D72_0693.jpg  \n",
            "  inflating: test_data/test_data/gretit/D72_0694.jpg  \n",
            "  inflating: test_data/test_data/gretit/D72_0695.jpg  \n",
            "  inflating: test_data/test_data/hilpig/DSC_6359.jpg  \n",
            "  inflating: test_data/test_data/hilpig/DSC_6362.jpg  \n",
            "  inflating: test_data/test_data/hilpig/DSC_6364.jpg  \n",
            "  inflating: test_data/test_data/hilpig/DSC_6368.jpg  \n",
            "  inflating: test_data/test_data/hilpig/DSC_6403.jpg  \n",
            "  inflating: test_data/test_data/hilpig/DSC_6404.jpg  \n",
            "  inflating: test_data/test_data/hilpig/P1000319.jpg  \n",
            "  inflating: test_data/test_data/hilpig/P1000323.jpg  \n",
            "  inflating: test_data/test_data/hilpig/P1050044.jpg  \n",
            "  inflating: test_data/test_data/hilpig/P1050045.jpg  \n",
            "  inflating: test_data/test_data/himbul/11602064885_3826df4500_o.jpg  \n",
            "  inflating: test_data/test_data/himbul/11619942574_42f23a7b05_o.jpg  \n",
            "  inflating: test_data/test_data/himbul/11620097904_33fa8ee878_o.jpg  \n",
            "  inflating: test_data/test_data/himbul/5857371972_ed4f88b275_o.jpg  \n",
            "  inflating: test_data/test_data/himbul/6154954471_eefe6e00d1_o.jpg  \n",
            "  inflating: test_data/test_data/himbul/D72_0688.jpg  \n",
            "  inflating: test_data/test_data/himbul/D72_0691.jpg  \n",
            "  inflating: test_data/test_data/himbul/DSC08357.jpg  \n",
            "  inflating: test_data/test_data/himbul/DSC_3230.jpg  \n",
            "  inflating: test_data/test_data/himbul/DSC_7439.jpg  \n",
            "  inflating: test_data/test_data/himbul/DSC_7602.jpg  \n",
            "  inflating: test_data/test_data/himbul/P1060368.jpg  \n",
            "  inflating: test_data/test_data/himbul/P1060369.jpg  \n",
            "  inflating: test_data/test_data/himbul/_D32_10242.jpg  \n",
            "  inflating: test_data/test_data/himbul/_D32_10245.jpg  \n",
            "  inflating: test_data/test_data/himbul/_D32_10251.jpg  \n",
            "  inflating: test_data/test_data/himbul/_D32_10319.jpg  \n",
            "  inflating: test_data/test_data/himbul/_D32_10320.jpg  \n",
            "  inflating: test_data/test_data/himbul/_DSC9446.jpg  \n",
            "  inflating: test_data/test_data/himgri/IMG_5384.JPG  \n",
            "  inflating: test_data/test_data/himgri/IMG_5385.JPG  \n",
            "  inflating: test_data/test_data/himgri/IMG_5386.JPG  \n",
            "  inflating: test_data/test_data/himgri/IMG_5387.JPG  \n",
            "  inflating: test_data/test_data/himgri/IMG_5459.JPG  \n",
            "  inflating: test_data/test_data/himgri/IMG_5460.JPG  \n",
            "  inflating: test_data/test_data/himgri/IMG_5487.JPG  \n",
            "  inflating: test_data/test_data/himgri/IMG_5488.JPG  \n",
            "  inflating: test_data/test_data/himgri/IMG_5489.JPG  \n",
            "  inflating: test_data/test_data/himgri/IMG_5490.JPG  \n",
            "  inflating: test_data/test_data/himgri/IMG_5491.JPG  \n",
            "  inflating: test_data/test_data/himgri/IMG_5492.JPG  \n",
            "  inflating: test_data/test_data/himgri/P1020742.jpg  \n",
            "  inflating: test_data/test_data/himgri/P1020743.jpg  \n",
            "  inflating: test_data/test_data/himgri/P1020746.jpg  \n",
            "  inflating: test_data/test_data/himgri/P1020748.jpg  \n",
            "  inflating: test_data/test_data/himgri/P1030055.jpg  \n",
            "  inflating: test_data/test_data/himgri/P1060776.jpg  \n",
            "  inflating: test_data/test_data/himgri/P1060777.jpg  \n",
            "  inflating: test_data/test_data/himgri/P1060778.jpg  \n",
            "  inflating: test_data/test_data/hsparo/100_5573.JPG  \n",
            "  inflating: test_data/test_data/hsparo/100_5585.JPG  \n",
            "  inflating: test_data/test_data/hsparo/100_5586.JPG  \n",
            "  inflating: test_data/test_data/hsparo/100_5742.JPG  \n",
            "  inflating: test_data/test_data/hsparo/12265273154_48e0fefd42_o.jpg  \n",
            "  inflating: test_data/test_data/hsparo/DSC_4521.jpg  \n",
            "  inflating: test_data/test_data/hsparo/DSC_7619.jpg  \n",
            "  inflating: test_data/test_data/hsparo/_DSC_11244.jpg  \n",
            "  inflating: test_data/test_data/hsparo/_DSC_11246.jpg  \n",
            "  inflating: test_data/test_data/indvul/DSC_1263.jpg  \n",
            "  inflating: test_data/test_data/indvul/DSC_1273.jpg  \n",
            "  inflating: test_data/test_data/indvul/DSC_1274.jpg  \n",
            "  inflating: test_data/test_data/indvul/DSC_1275.jpg  \n",
            "  inflating: test_data/test_data/indvul/DSC_1277.jpg  \n",
            "  inflating: test_data/test_data/indvul/_DSC8754.jpg  \n",
            "  inflating: test_data/test_data/indvul/_DSC9520.jpg  \n",
            "  inflating: test_data/test_data/indvul/_DSC9521.jpg  \n",
            "  inflating: test_data/test_data/indvul/_DSC9523.jpg  \n",
            "  inflating: test_data/test_data/jglowl/_D32_10584.jpg  \n",
            "  inflating: test_data/test_data/jglowl/_D32_10587.jpg  \n",
            "  inflating: test_data/test_data/jglowl/_D32_10593.jpg  \n",
            "  inflating: test_data/test_data/jglowl/_D32_13515.jpg  \n",
            "  inflating: test_data/test_data/jglowl/_D32_13516.jpg  \n",
            "  inflating: test_data/test_data/jglowl/_D32_13517.jpg  \n",
            "  inflating: test_data/test_data/lbicrw/100_4917.JPG  \n",
            "  inflating: test_data/test_data/lbicrw/IMG_5538.JPG  \n",
            "  inflating: test_data/test_data/lbicrw/IMG_5541.JPG  \n",
            "  inflating: test_data/test_data/lbicrw/IMG_5543.JPG  \n",
            "  inflating: test_data/test_data/lbicrw/IMG_5544.JPG  \n",
            "  inflating: test_data/test_data/lbicrw/P1030030.jpg  \n",
            "  inflating: test_data/test_data/mgprob/100_5811.JPG  \n",
            "  inflating: test_data/test_data/mgprob/100_5812.JPG  \n",
            "  inflating: test_data/test_data/mgprob/100_5813.JPG  \n",
            "  inflating: test_data/test_data/mgprob/DSC_3233.jpg  \n",
            "  inflating: test_data/test_data/mgprob/_DSC0085.jpg  \n",
            "  inflating: test_data/test_data/mgprob/_DSC0133.jpg  \n",
            "  inflating: test_data/test_data/mgprob/_DSC0135.jpg  \n",
            "  inflating: test_data/test_data/rebimg/100_5756.JPG  \n",
            "  inflating: test_data/test_data/rebimg/100_5757.JPG  \n",
            "  inflating: test_data/test_data/rebimg/100_5758.JPG  \n",
            "  inflating: test_data/test_data/rebimg/100_5759.JPG  \n",
            "  inflating: test_data/test_data/rebimg/100_5760.JPG  \n",
            "  inflating: test_data/test_data/rebimg/13009302395_5d88a9d62b_o.jpg  \n",
            "  inflating: test_data/test_data/rebimg/13009315305_f1cbfb6767_o.jpg  \n",
            "  inflating: test_data/test_data/rebimg/13009451823_8eb502581f_o.jpg  \n",
            "  inflating: test_data/test_data/rebimg/DSC_7148.jpg  \n",
            "  inflating: test_data/test_data/rebimg/IMG_5251.JPG  \n",
            "  inflating: test_data/test_data/rebimg/IMG_5252.JPG  \n",
            "  inflating: test_data/test_data/wcrsrt/100_4462.JPG  \n",
            "  inflating: test_data/test_data/wcrsrt/100_4463.JPG  \n",
            "  inflating: test_data/test_data/wcrsrt/100_4464.JPG  \n",
            "  inflating: test_data/test_data/wcrsrt/100_4466.JPG  \n",
            "  inflating: test_data/test_data/wcrsrt/100_4467.JPG  \n",
            "  inflating: test_data/test_data/wcrsrt/100_4468.JPG  \n",
            "  inflating: test_data/test_data/wcrsrt/100_5103.JPG  \n",
            "  inflating: test_data/test_data/wcrsrt/100_5105.JPG  \n",
            "  inflating: test_data/test_data/wcrsrt/11382677585_ef6570a041_o.jpg  \n",
            "  inflating: test_data/test_data/wcrsrt/11382746854_7ce73793b3_o.jpg  \n",
            "  inflating: train_data/train_data/blasti/DSC_6382.jpg  \n",
            "  inflating: train_data/train_data/blasti/DSC_6383.jpg  \n",
            "  inflating: train_data/train_data/blasti/DSC_6384-2.jpg  \n",
            "  inflating: train_data/train_data/blasti/DSC_6384.jpg  \n",
            "  inflating: train_data/train_data/blasti/DSC_6385.jpg  \n",
            "  inflating: train_data/train_data/blasti/DSC_6386.jpg  \n",
            "  inflating: train_data/train_data/blasti/DSC_6387.jpg  \n",
            "  inflating: train_data/train_data/blasti/DSC_6388.jpg  \n",
            "  inflating: train_data/train_data/blasti/DSC_6389.jpg  \n",
            "  inflating: train_data/train_data/blasti/DSC_6390.jpg  \n",
            "  inflating: train_data/train_data/blasti/DSC_6391.jpg  \n",
            "  inflating: train_data/train_data/blasti/DSC_6392.jpg  \n",
            "  inflating: train_data/train_data/blasti/DSC_6393.jpg  \n",
            "  inflating: train_data/train_data/blasti/DSC_6394.jpg  \n",
            "  inflating: train_data/train_data/blasti/DSC_6395.jpg  \n",
            "  inflating: train_data/train_data/bonegl/DSC_4570.jpg  \n",
            "  inflating: train_data/train_data/bonegl/DSC_4571.jpg  \n",
            "  inflating: train_data/train_data/bonegl/DSC_4583.jpg  \n",
            "  inflating: train_data/train_data/bonegl/DSC_4584.jpg  \n",
            "  inflating: train_data/train_data/bonegl/DSC_4585.jpg  \n",
            "  inflating: train_data/train_data/bonegl/DSC_4586.jpg  \n",
            "  inflating: train_data/train_data/brhkyt/D72_0400.jpg  \n",
            "  inflating: train_data/train_data/brhkyt/D72_0401.jpg  \n",
            "  inflating: train_data/train_data/brhkyt/D72_0470.jpg  \n",
            "  inflating: train_data/train_data/brhkyt/D72_0471.jpg  \n",
            "  inflating: train_data/train_data/brhkyt/D72_0472.jpg  \n",
            "  inflating: train_data/train_data/cbrtsh/100_5097.JPG  \n",
            "  inflating: train_data/train_data/cbrtsh/_D32_10303.jpg  \n",
            "  inflating: train_data/train_data/cbrtsh/_D32_10305.jpg  \n",
            "  inflating: train_data/train_data/cbrtsh/_D32_10306.jpg  \n",
            "  inflating: train_data/train_data/cbrtsh/_D32_10307.jpg  \n",
            "  inflating: train_data/train_data/cbrtsh/_D32_10308.jpg  \n",
            "  inflating: train_data/train_data/cbrtsh/_D32_10309.jpg  \n",
            "  inflating: train_data/train_data/cmnmyn/100_5763.JPG  \n",
            "  inflating: train_data/train_data/cmnmyn/5866682091_870ccc946c_o.jpg  \n",
            "  inflating: train_data/train_data/cmnmyn/6154956165_64266b8b53_o.jpg  \n",
            "  inflating: train_data/train_data/cmnmyn/DSCN5784.jpg  \n",
            "  inflating: train_data/train_data/cmnmyn/DSCN5787.jpg  \n",
            "  inflating: train_data/train_data/cmnmyn/DSCN5790.jpg  \n",
            "  inflating: train_data/train_data/cmnmyn/DSCN5791.jpg  \n",
            "  inflating: train_data/train_data/gretit/100_5042.JPG  \n",
            "  inflating: train_data/train_data/gretit/100_5043.JPG  \n",
            "  inflating: train_data/train_data/gretit/100_5044.JPG  \n",
            "  inflating: train_data/train_data/gretit/100_5045.JPG  \n",
            "  inflating: train_data/train_data/gretit/100_5046.JPG  \n",
            "  inflating: train_data/train_data/gretit/100_5047.JPG  \n",
            "  inflating: train_data/train_data/hilpig/DSC_6272.jpg  \n",
            "  inflating: train_data/train_data/hilpig/DSC_6273.jpg  \n",
            "  inflating: train_data/train_data/hilpig/DSC_6274.jpg  \n",
            "  inflating: train_data/train_data/hilpig/DSC_6275.jpg  \n",
            "  inflating: train_data/train_data/hilpig/DSC_6350.jpg  \n",
            "  inflating: train_data/train_data/hilpig/DSC_6351.jpg  \n",
            "  inflating: train_data/train_data/hilpig/DSC_6352.jpg  \n",
            "  inflating: train_data/train_data/hilpig/DSC_6353.jpg  \n",
            "  inflating: train_data/train_data/hilpig/DSC_6354.jpg  \n",
            "  inflating: train_data/train_data/hilpig/DSC_6358.jpg  \n",
            "  inflating: train_data/train_data/himbul/100_5028.JPG  \n",
            "  inflating: train_data/train_data/himbul/100_5029.JPG  \n",
            "  inflating: train_data/train_data/himbul/100_5096.JPG  \n",
            "  inflating: train_data/train_data/himbul/100_5099.JPG  \n",
            "  inflating: train_data/train_data/himbul/100_5100.JPG  \n",
            "  inflating: train_data/train_data/himbul/100_5102.JPG  \n",
            "  inflating: train_data/train_data/himbul/100_5110.JPG  \n",
            "  inflating: train_data/train_data/himbul/100_5112.JPG  \n",
            "  inflating: train_data/train_data/himbul/100_5113.JPG  \n",
            "  inflating: train_data/train_data/himbul/100_5159.JPG  \n",
            "  inflating: train_data/train_data/himbul/100_5160.JPG  \n",
            "  inflating: train_data/train_data/himbul/100_5161.JPG  \n",
            "  inflating: train_data/train_data/himbul/100_5162.JPG  \n",
            "  inflating: train_data/train_data/himbul/10774570945_9bc537c255_o.jpg  \n",
            "  inflating: train_data/train_data/himbul/11383838134_96e891a316_o.jpg  \n",
            "  inflating: train_data/train_data/himbul/11383857084_cdd7514746_o.jpg  \n",
            "  inflating: train_data/train_data/himbul/11387473723_464965720a_o.jpg  \n",
            "  inflating: train_data/train_data/himbul/9007817678_24db19fc63_o.jpg  \n",
            "  inflating: train_data/train_data/himgri/12029790563_2fe54a68aa_o.jpg  \n",
            "  inflating: train_data/train_data/himgri/12029822653_1185544e7b_o.jpg  \n",
            "  inflating: train_data/train_data/himgri/12029933015_802428e277_o.jpg  \n",
            "  inflating: train_data/train_data/himgri/12029987304_031b7a2d53_o.jpg  \n",
            "  inflating: train_data/train_data/himgri/12030165813_f5341e8ed0_o.jpg  \n",
            "  inflating: train_data/train_data/himgri/12030221124_1baaf905d1_o.jpg  \n",
            "  inflating: train_data/train_data/himgri/12030269234_1c3f5a8e8c_o.jpg  \n",
            "  inflating: train_data/train_data/himgri/12152037683_13e1556c41_o.jpg  \n",
            "  inflating: train_data/train_data/himgri/12152178844_dc29e3126f_o.jpg  \n",
            "  inflating: train_data/train_data/himgri/12152510436_23b62fed3b_o.jpg  \n",
            "  inflating: train_data/train_data/himgri/12265055185_138e3c7c70_o.jpg  \n",
            "  inflating: train_data/train_data/himgri/12265498144_d2e80faa3b_o.jpg  \n",
            "  inflating: train_data/train_data/himgri/12265561764_4814951031_o.jpg  \n",
            "  inflating: train_data/train_data/himgri/12265582724_61cb64e73a_o.jpg  \n",
            "  inflating: train_data/train_data/himgri/12265738206_2b9b25cc8a_o.jpg  \n",
            "  inflating: train_data/train_data/himgri/12265747116_d4b4fa3741_o.jpg  \n",
            "  inflating: train_data/train_data/himgri/12266053036_fcab92d8e8_o.jpg  \n",
            "  inflating: train_data/train_data/himgri/12266077576_1d7143aaf7_o.jpg  \n",
            "  inflating: train_data/train_data/himgri/12266086526_82cd337667_o.jpg  \n",
            "  inflating: train_data/train_data/himgri/IMG_5463.JPG  \n",
            "  inflating: train_data/train_data/hsparo/100_4757.JPG  \n",
            "  inflating: train_data/train_data/hsparo/100_4758.JPG  \n",
            "  inflating: train_data/train_data/hsparo/100_5039.JPG  \n",
            "  inflating: train_data/train_data/hsparo/100_5040.JPG  \n",
            "  inflating: train_data/train_data/hsparo/100_5041.JPG  \n",
            "  inflating: train_data/train_data/hsparo/100_5048.JPG  \n",
            "  inflating: train_data/train_data/hsparo/100_5049.JPG  \n",
            "  inflating: train_data/train_data/hsparo/100_5050.JPG  \n",
            "  inflating: train_data/train_data/hsparo/100_5572.JPG  \n",
            "  inflating: train_data/train_data/indvul/DSC_0502.jpg  \n",
            "  inflating: train_data/train_data/indvul/DSC_0571e.jpg  \n",
            "  inflating: train_data/train_data/indvul/DSC_0572.jpg  \n",
            "  inflating: train_data/train_data/indvul/DSC_0576e.jpg  \n",
            "  inflating: train_data/train_data/indvul/DSC_0582.jpg  \n",
            "  inflating: train_data/train_data/indvul/DSC_0583e.jpg  \n",
            "  inflating: train_data/train_data/indvul/DSC_0584.jpg  \n",
            "  inflating: train_data/train_data/indvul/DSC_0616c.jpg  \n",
            "  inflating: train_data/train_data/indvul/DSC_0617.jpg  \n",
            "  inflating: train_data/train_data/jglowl/12152151476_7a1524aabb_o.jpg  \n",
            "  inflating: train_data/train_data/jglowl/DSC01335.jpg  \n",
            "  inflating: train_data/train_data/jglowl/DSC01336.jpg  \n",
            "  inflating: train_data/train_data/jglowl/_D32_10285.jpg  \n",
            "  inflating: train_data/train_data/jglowl/_D32_10578.jpg  \n",
            "  inflating: train_data/train_data/jglowl/_D32_10583.jpg  \n",
            "  inflating: train_data/train_data/lbicrw/100_4037.JPG  \n",
            "  inflating: train_data/train_data/lbicrw/100_4912.JPG  \n",
            "  inflating: train_data/train_data/lbicrw/100_4913.JPG  \n",
            "  inflating: train_data/train_data/lbicrw/100_4914.JPG  \n",
            "  inflating: train_data/train_data/lbicrw/100_4915.JPG  \n",
            "  inflating: train_data/train_data/lbicrw/100_4916.JPG  \n",
            "  inflating: train_data/train_data/mgprob/100_5587.JPG  \n",
            "  inflating: train_data/train_data/mgprob/100_5588.JPG  \n",
            "  inflating: train_data/train_data/mgprob/100_5589.JPG  \n",
            "  inflating: train_data/train_data/mgprob/100_5590.JPG  \n",
            "  inflating: train_data/train_data/mgprob/100_5592.JPG  \n",
            "  inflating: train_data/train_data/mgprob/100_5762.JPG  \n",
            "  inflating: train_data/train_data/rebimg/100_5744.JPG  \n",
            "  inflating: train_data/train_data/rebimg/100_5745.JPG  \n",
            "  inflating: train_data/train_data/rebimg/100_5746.JPG  \n",
            "  inflating: train_data/train_data/rebimg/100_5748.JPG  \n",
            "  inflating: train_data/train_data/rebimg/100_5749.JPG  \n",
            "  inflating: train_data/train_data/rebimg/100_5750.JPG  \n",
            "  inflating: train_data/train_data/rebimg/100_5751.JPG  \n",
            "  inflating: train_data/train_data/rebimg/100_5752.JPG  \n",
            "  inflating: train_data/train_data/rebimg/100_5754.JPG  \n",
            "  inflating: train_data/train_data/rebimg/100_5755.JPG  \n",
            "  inflating: train_data/train_data/wcrsrt/100_4452.JPG  \n",
            "  inflating: train_data/train_data/wcrsrt/100_4453.JPG  \n",
            "  inflating: train_data/train_data/wcrsrt/100_4454.JPG  \n",
            "  inflating: train_data/train_data/wcrsrt/100_4455.JPG  \n",
            "  inflating: train_data/train_data/wcrsrt/100_4456.JPG  \n",
            "  inflating: train_data/train_data/wcrsrt/100_4457.JPG  \n",
            "  inflating: train_data/train_data/wcrsrt/100_4458.JPG  \n",
            "  inflating: train_data/train_data/wcrsrt/100_4459.JPG  \n",
            "  inflating: train_data/train_data/wcrsrt/100_4460.JPG  \n",
            "  inflating: train_data/train_data/wcrsrt/100_4461.JPG  \n"
          ]
        }
      ]
    },
    {
      "cell_type": "code",
      "source": [
        "from tensorflow.keras.preprocessing.image import ImageDataGenerator"
      ],
      "metadata": {
        "id": "rh6mS0x7oWCo"
      },
      "execution_count": 6,
      "outputs": []
    },
    {
      "cell_type": "code",
      "source": [
        "train_gen=ImageDataGenerator(rescale=(1./255),horizontal_flip=True,shear_range=0.2)\n",
        "test_gen=ImageDataGenerator(rescale=(1./255))"
      ],
      "metadata": {
        "id": "fS5oO_H-oXSC"
      },
      "execution_count": 7,
      "outputs": []
    },
    {
      "cell_type": "code",
      "source": [
        "train = train_gen.flow_from_directory('/content/train_data/train_data',target_size=(120,120),class_mode='categorical',batch_size=8)\n",
        "test = test_gen.flow_from_directory('/content/test_data/test_data',target_size=(120,120),class_mode='categorical',batch_size=8)"
      ],
      "metadata": {
        "colab": {
          "base_uri": "https://localhost:8080/"
        },
        "id": "81_in6wWqdbg",
        "outputId": "087b8cb6-4637-4155-cd8f-0c50fe7fbd34"
      },
      "execution_count": 8,
      "outputs": [
        {
          "output_type": "stream",
          "name": "stdout",
          "text": [
            "Found 150 images belonging to 16 classes.\n",
            "Found 157 images belonging to 16 classes.\n"
          ]
        }
      ]
    },
    {
      "cell_type": "markdown",
      "source": [
        "#Model 1(98.0% Accuracy, 22.29% Val Accuracy)"
      ],
      "metadata": {
        "id": "9tRjl3fx3e6F"
      }
    },
    {
      "cell_type": "code",
      "source": [
        "from tensorflow.keras.layers import Convolution2D,MaxPooling2D,Flatten,Dense\n",
        "from tensorflow.keras.models import Sequential\n",
        "from tensorflow.keras.callbacks import EarlyStopping\n",
        "from tensorflow.keras.layers import BatchNormalization, Dropout"
      ],
      "metadata": {
        "id": "APpzncX4qu4Y"
      },
      "execution_count": 10,
      "outputs": []
    },
    {
      "cell_type": "code",
      "source": [
        "model=Sequential()\n",
        "model.add(Convolution2D(16,(3,3),activation='relu',input_shape=(120,120,3)))\n",
        "model.add(BatchNormalization())\n",
        "model.add(MaxPooling2D(pool_size=(2,2)))\n",
        "model.add(Dropout(0.2))\n",
        "model.add(Convolution2D(32,(3,3),activation='relu'))\n",
        "model.add(BatchNormalization())\n",
        "model.add(MaxPooling2D(pool_size=(2,2)))\n",
        "model.add(Dropout(0.2))\n",
        "model.add(Convolution2D(64,(3,3),activation='relu'))\n",
        "model.add(BatchNormalization())\n",
        "model.add(MaxPooling2D(pool_size=(2,2)))\n",
        "model.add(Dropout(0.2))\n",
        "model.add(Flatten())\n",
        "model.add(Dense(64,activation='relu'))\n",
        "model.add(BatchNormalization())\n",
        "model.add(Dropout(0.1))\n",
        "model.add(Dense(32,activation='relu'))\n",
        "model.add(BatchNormalization())\n",
        "model.add(Dropout(0.1))\n",
        "model.add(Dense(16,activation='softmax'))"
      ],
      "metadata": {
        "id": "-slYjCluqylV"
      },
      "execution_count": null,
      "outputs": []
    },
    {
      "cell_type": "code",
      "source": [
        "model.compile(optimizer='adam',metrics=['accuracy'],loss='categorical_crossentropy')"
      ],
      "metadata": {
        "id": "TcE5HY_Wq3iy"
      },
      "execution_count": null,
      "outputs": []
    },
    {
      "cell_type": "code",
      "source": [
        "early_stop = EarlyStopping(monitor='accuracy',patience=8)"
      ],
      "metadata": {
        "id": "P65-QnzuyXXt"
      },
      "execution_count": null,
      "outputs": []
    },
    {
      "cell_type": "code",
      "source": [
        "model.fit(train,batch_size=8,validation_data=test,epochs=100,callbacks=early_stop)"
      ],
      "metadata": {
        "colab": {
          "base_uri": "https://localhost:8080/"
        },
        "id": "8Bji5h5vq8lX",
        "outputId": "fdf8a4e3-773f-4659-a0cf-538a208d55a0"
      },
      "execution_count": null,
      "outputs": [
        {
          "output_type": "stream",
          "name": "stdout",
          "text": [
            "Epoch 1/100\n",
            "19/19 [==============================] - 204s 6s/step - loss: 2.9764 - accuracy: 0.1400 - val_loss: 3.0217 - val_accuracy: 0.0955\n",
            "Epoch 2/100\n",
            "19/19 [==============================] - 109s 6s/step - loss: 2.5115 - accuracy: 0.2400 - val_loss: 3.7259 - val_accuracy: 0.0382\n",
            "Epoch 3/100\n",
            "19/19 [==============================] - 130s 7s/step - loss: 2.4964 - accuracy: 0.2467 - val_loss: 4.2670 - val_accuracy: 0.0382\n",
            "Epoch 4/100\n",
            "19/19 [==============================] - 129s 7s/step - loss: 2.3007 - accuracy: 0.3200 - val_loss: 3.9677 - val_accuracy: 0.0573\n",
            "Epoch 5/100\n",
            "19/19 [==============================] - 129s 7s/step - loss: 2.1765 - accuracy: 0.3067 - val_loss: 3.9218 - val_accuracy: 0.0573\n",
            "Epoch 6/100\n",
            "19/19 [==============================] - 131s 7s/step - loss: 2.1169 - accuracy: 0.3400 - val_loss: 3.6979 - val_accuracy: 0.0573\n",
            "Epoch 7/100\n",
            "19/19 [==============================] - 131s 7s/step - loss: 2.1855 - accuracy: 0.3133 - val_loss: 4.6541 - val_accuracy: 0.0573\n",
            "Epoch 8/100\n",
            "19/19 [==============================] - 109s 6s/step - loss: 2.0333 - accuracy: 0.3467 - val_loss: 5.1199 - val_accuracy: 0.0573\n",
            "Epoch 9/100\n",
            "19/19 [==============================] - 129s 7s/step - loss: 1.8808 - accuracy: 0.4400 - val_loss: 6.0009 - val_accuracy: 0.0573\n",
            "Epoch 10/100\n",
            "19/19 [==============================] - 129s 7s/step - loss: 1.7602 - accuracy: 0.4800 - val_loss: 4.7868 - val_accuracy: 0.0573\n",
            "Epoch 11/100\n",
            "19/19 [==============================] - 130s 7s/step - loss: 1.8191 - accuracy: 0.4867 - val_loss: 4.7531 - val_accuracy: 0.0573\n",
            "Epoch 12/100\n",
            "19/19 [==============================] - 130s 7s/step - loss: 1.6555 - accuracy: 0.5000 - val_loss: 4.8816 - val_accuracy: 0.0573\n",
            "Epoch 13/100\n",
            "19/19 [==============================] - 108s 6s/step - loss: 1.7799 - accuracy: 0.4200 - val_loss: 5.3148 - val_accuracy: 0.0637\n",
            "Epoch 14/100\n",
            "19/19 [==============================] - 129s 7s/step - loss: 1.6413 - accuracy: 0.4800 - val_loss: 5.3195 - val_accuracy: 0.0637\n",
            "Epoch 15/100\n",
            "19/19 [==============================] - 129s 7s/step - loss: 1.8621 - accuracy: 0.4267 - val_loss: 4.5942 - val_accuracy: 0.0637\n",
            "Epoch 16/100\n",
            "19/19 [==============================] - 131s 7s/step - loss: 1.6474 - accuracy: 0.5267 - val_loss: 4.8016 - val_accuracy: 0.0573\n",
            "Epoch 17/100\n",
            "19/19 [==============================] - 131s 7s/step - loss: 1.6656 - accuracy: 0.4867 - val_loss: 4.5975 - val_accuracy: 0.0637\n",
            "Epoch 18/100\n",
            "19/19 [==============================] - 130s 7s/step - loss: 1.5107 - accuracy: 0.5733 - val_loss: 4.5435 - val_accuracy: 0.0573\n",
            "Epoch 19/100\n",
            "19/19 [==============================] - 129s 7s/step - loss: 1.5618 - accuracy: 0.5267 - val_loss: 4.3176 - val_accuracy: 0.0764\n",
            "Epoch 20/100\n",
            "19/19 [==============================] - 108s 6s/step - loss: 1.3831 - accuracy: 0.6200 - val_loss: 4.6124 - val_accuracy: 0.0637\n",
            "Epoch 21/100\n",
            "19/19 [==============================] - 129s 7s/step - loss: 1.3783 - accuracy: 0.6400 - val_loss: 3.8041 - val_accuracy: 0.0701\n",
            "Epoch 22/100\n",
            "19/19 [==============================] - 131s 7s/step - loss: 1.2647 - accuracy: 0.6600 - val_loss: 3.9334 - val_accuracy: 0.1274\n",
            "Epoch 23/100\n",
            "19/19 [==============================] - 110s 6s/step - loss: 1.2032 - accuracy: 0.6533 - val_loss: 3.8158 - val_accuracy: 0.0955\n",
            "Epoch 24/100\n",
            "19/19 [==============================] - 129s 7s/step - loss: 1.1900 - accuracy: 0.6800 - val_loss: 3.9879 - val_accuracy: 0.0828\n",
            "Epoch 25/100\n",
            "19/19 [==============================] - 129s 7s/step - loss: 1.2132 - accuracy: 0.6533 - val_loss: 3.5057 - val_accuracy: 0.1592\n",
            "Epoch 26/100\n",
            "19/19 [==============================] - 130s 7s/step - loss: 1.1593 - accuracy: 0.6733 - val_loss: 3.6180 - val_accuracy: 0.1465\n",
            "Epoch 27/100\n",
            "19/19 [==============================] - 131s 7s/step - loss: 1.2186 - accuracy: 0.6533 - val_loss: 3.7552 - val_accuracy: 0.1529\n",
            "Epoch 28/100\n",
            "19/19 [==============================] - 129s 7s/step - loss: 1.0998 - accuracy: 0.6933 - val_loss: 3.3845 - val_accuracy: 0.1783\n",
            "Epoch 29/100\n",
            "19/19 [==============================] - 107s 6s/step - loss: 0.9932 - accuracy: 0.7400 - val_loss: 3.4151 - val_accuracy: 0.1783\n",
            "Epoch 30/100\n",
            "19/19 [==============================] - 108s 6s/step - loss: 0.9598 - accuracy: 0.7400 - val_loss: 2.9675 - val_accuracy: 0.1975\n",
            "Epoch 31/100\n",
            "19/19 [==============================] - 130s 7s/step - loss: 0.9652 - accuracy: 0.7400 - val_loss: 3.1956 - val_accuracy: 0.1529\n",
            "Epoch 32/100\n",
            "19/19 [==============================] - 129s 7s/step - loss: 0.8154 - accuracy: 0.7933 - val_loss: 3.1354 - val_accuracy: 0.1847\n",
            "Epoch 33/100\n",
            "19/19 [==============================] - 108s 6s/step - loss: 0.7459 - accuracy: 0.7933 - val_loss: 2.9415 - val_accuracy: 0.2102\n",
            "Epoch 34/100\n",
            "19/19 [==============================] - 110s 6s/step - loss: 0.7878 - accuracy: 0.8067 - val_loss: 3.1483 - val_accuracy: 0.1656\n",
            "Epoch 35/100\n",
            "19/19 [==============================] - 108s 6s/step - loss: 0.7374 - accuracy: 0.7933 - val_loss: 3.1250 - val_accuracy: 0.2102\n",
            "Epoch 36/100\n",
            "19/19 [==============================] - 129s 7s/step - loss: 0.7201 - accuracy: 0.8533 - val_loss: 3.2397 - val_accuracy: 0.1656\n",
            "Epoch 37/100\n",
            "19/19 [==============================] - 130s 7s/step - loss: 0.7255 - accuracy: 0.7867 - val_loss: 3.0800 - val_accuracy: 0.2166\n",
            "Epoch 38/100\n",
            "19/19 [==============================] - 104s 6s/step - loss: 0.6733 - accuracy: 0.8400 - val_loss: 3.2283 - val_accuracy: 0.1529\n",
            "Epoch 39/100\n",
            "19/19 [==============================] - 129s 7s/step - loss: 0.6728 - accuracy: 0.8067 - val_loss: 3.0473 - val_accuracy: 0.1720\n",
            "Epoch 40/100\n",
            "19/19 [==============================] - 129s 7s/step - loss: 0.5286 - accuracy: 0.8667 - val_loss: 3.0870 - val_accuracy: 0.1783\n",
            "Epoch 41/100\n",
            "19/19 [==============================] - 129s 7s/step - loss: 0.5277 - accuracy: 0.8667 - val_loss: 3.1608 - val_accuracy: 0.2293\n",
            "Epoch 42/100\n",
            "19/19 [==============================] - 128s 7s/step - loss: 0.5959 - accuracy: 0.8467 - val_loss: 2.9407 - val_accuracy: 0.2293\n",
            "Epoch 43/100\n",
            "19/19 [==============================] - 128s 7s/step - loss: 0.5855 - accuracy: 0.8667 - val_loss: 3.8411 - val_accuracy: 0.2357\n",
            "Epoch 44/100\n",
            "19/19 [==============================] - 128s 7s/step - loss: 0.5528 - accuracy: 0.8733 - val_loss: 3.6600 - val_accuracy: 0.2420\n",
            "Epoch 45/100\n",
            "19/19 [==============================] - 127s 7s/step - loss: 0.6799 - accuracy: 0.8533 - val_loss: 2.7753 - val_accuracy: 0.2611\n",
            "Epoch 46/100\n",
            "19/19 [==============================] - 127s 7s/step - loss: 0.4927 - accuracy: 0.8867 - val_loss: 2.8888 - val_accuracy: 0.2420\n",
            "Epoch 47/100\n",
            "19/19 [==============================] - 129s 7s/step - loss: 0.4335 - accuracy: 0.9000 - val_loss: 3.9193 - val_accuracy: 0.1911\n",
            "Epoch 48/100\n",
            "19/19 [==============================] - 128s 7s/step - loss: 0.6216 - accuracy: 0.8533 - val_loss: 4.3228 - val_accuracy: 0.1847\n",
            "Epoch 49/100\n",
            "19/19 [==============================] - 129s 7s/step - loss: 0.4964 - accuracy: 0.8600 - val_loss: 2.8903 - val_accuracy: 0.2866\n",
            "Epoch 50/100\n",
            "19/19 [==============================] - 106s 6s/step - loss: 0.4121 - accuracy: 0.9133 - val_loss: 3.0773 - val_accuracy: 0.2484\n",
            "Epoch 51/100\n",
            "19/19 [==============================] - 128s 7s/step - loss: 0.4153 - accuracy: 0.9067 - val_loss: 4.1333 - val_accuracy: 0.2420\n",
            "Epoch 52/100\n",
            "19/19 [==============================] - 127s 7s/step - loss: 0.4297 - accuracy: 0.9000 - val_loss: 3.4301 - val_accuracy: 0.2484\n",
            "Epoch 53/100\n",
            "19/19 [==============================] - 127s 7s/step - loss: 0.3657 - accuracy: 0.9133 - val_loss: 2.9974 - val_accuracy: 0.2166\n",
            "Epoch 54/100\n",
            "19/19 [==============================] - 105s 6s/step - loss: 0.3796 - accuracy: 0.9133 - val_loss: 2.9904 - val_accuracy: 0.2166\n",
            "Epoch 55/100\n",
            "19/19 [==============================] - 128s 7s/step - loss: 0.4098 - accuracy: 0.8933 - val_loss: 4.9756 - val_accuracy: 0.1911\n",
            "Epoch 56/100\n",
            "19/19 [==============================] - 106s 6s/step - loss: 0.2983 - accuracy: 0.9267 - val_loss: 3.4191 - val_accuracy: 0.2166\n",
            "Epoch 57/100\n",
            "19/19 [==============================] - 129s 7s/step - loss: 0.3711 - accuracy: 0.9067 - val_loss: 3.3142 - val_accuracy: 0.2038\n",
            "Epoch 58/100\n",
            "19/19 [==============================] - 128s 7s/step - loss: 0.3482 - accuracy: 0.9067 - val_loss: 3.7608 - val_accuracy: 0.2420\n",
            "Epoch 59/100\n",
            "19/19 [==============================] - 127s 7s/step - loss: 0.3191 - accuracy: 0.9533 - val_loss: 3.6239 - val_accuracy: 0.2166\n",
            "Epoch 60/100\n",
            "19/19 [==============================] - 128s 7s/step - loss: 0.3687 - accuracy: 0.9000 - val_loss: 3.5084 - val_accuracy: 0.1975\n",
            "Epoch 61/100\n",
            "19/19 [==============================] - 127s 7s/step - loss: 0.3676 - accuracy: 0.9067 - val_loss: 3.1523 - val_accuracy: 0.1847\n",
            "Epoch 62/100\n",
            "19/19 [==============================] - 127s 7s/step - loss: 0.2323 - accuracy: 0.9600 - val_loss: 2.8196 - val_accuracy: 0.2675\n",
            "Epoch 63/100\n",
            "19/19 [==============================] - 127s 7s/step - loss: 0.2562 - accuracy: 0.9533 - val_loss: 3.7609 - val_accuracy: 0.2803\n",
            "Epoch 64/100\n",
            "19/19 [==============================] - 128s 7s/step - loss: 0.3423 - accuracy: 0.9200 - val_loss: 3.0120 - val_accuracy: 0.2166\n",
            "Epoch 65/100\n",
            "19/19 [==============================] - 128s 7s/step - loss: 0.2351 - accuracy: 0.9533 - val_loss: 2.8524 - val_accuracy: 0.2548\n",
            "Epoch 66/100\n",
            "19/19 [==============================] - 104s 6s/step - loss: 0.2168 - accuracy: 0.9667 - val_loss: 4.6165 - val_accuracy: 0.2357\n",
            "Epoch 67/100\n",
            "19/19 [==============================] - 127s 7s/step - loss: 0.2738 - accuracy: 0.9267 - val_loss: 4.0780 - val_accuracy: 0.2357\n",
            "Epoch 68/100\n",
            "19/19 [==============================] - 127s 7s/step - loss: 0.1445 - accuracy: 0.9867 - val_loss: 3.1210 - val_accuracy: 0.2166\n",
            "Epoch 69/100\n",
            "19/19 [==============================] - 127s 7s/step - loss: 0.2374 - accuracy: 0.9733 - val_loss: 3.8984 - val_accuracy: 0.2102\n",
            "Epoch 70/100\n",
            "19/19 [==============================] - 128s 7s/step - loss: 0.2152 - accuracy: 0.9400 - val_loss: 3.6902 - val_accuracy: 0.2038\n",
            "Epoch 71/100\n",
            "19/19 [==============================] - 128s 7s/step - loss: 0.2087 - accuracy: 0.9600 - val_loss: 3.2278 - val_accuracy: 0.2293\n",
            "Epoch 72/100\n",
            "19/19 [==============================] - 104s 6s/step - loss: 0.1954 - accuracy: 0.9533 - val_loss: 2.9594 - val_accuracy: 0.2293\n",
            "Epoch 73/100\n",
            "19/19 [==============================] - 128s 7s/step - loss: 0.2181 - accuracy: 0.9533 - val_loss: 4.4105 - val_accuracy: 0.2548\n",
            "Epoch 74/100\n",
            "19/19 [==============================] - 128s 7s/step - loss: 0.2438 - accuracy: 0.9533 - val_loss: 3.1456 - val_accuracy: 0.2038\n",
            "Epoch 75/100\n",
            "19/19 [==============================] - 128s 7s/step - loss: 0.1855 - accuracy: 0.9533 - val_loss: 3.2098 - val_accuracy: 0.2420\n",
            "Epoch 76/100\n",
            "19/19 [==============================] - 105s 6s/step - loss: 0.1908 - accuracy: 0.9800 - val_loss: 3.2485 - val_accuracy: 0.2229\n"
          ]
        },
        {
          "output_type": "execute_result",
          "data": {
            "text/plain": [
              "<keras.callbacks.History at 0x7fdc25b0b6d0>"
            ]
          },
          "metadata": {},
          "execution_count": 29
        }
      ]
    },
    {
      "cell_type": "markdown",
      "source": [
        "#Model 2(100% Accuracy, 29% Val Accuracy)"
      ],
      "metadata": {
        "id": "3_FmSjk-3ytH"
      }
    },
    {
      "cell_type": "code",
      "source": [
        "model2=Sequential()\n",
        "model2.add(Convolution2D(16,(3,3),activation='relu',input_shape=(120,120,3)))\n",
        "model2.add(MaxPooling2D(pool_size=(2,2)))\n",
        "model2.add(Convolution2D(32,(3,3),activation='relu'))\n",
        "model2.add(MaxPooling2D(pool_size=(2,2)))\n",
        "model2.add(Convolution2D(64,(3,3),activation='relu'))\n",
        "model2.add(MaxPooling2D(pool_size=(2,2)))\n",
        "model2.add(Flatten())\n",
        "model2.add(Dense(64,activation='relu'))\n",
        "model2.add(Dense(32,activation='relu'))\n",
        "model2.add(Dense(16,activation='softmax'))"
      ],
      "metadata": {
        "id": "VUJ4kfbF3xn7"
      },
      "execution_count": 11,
      "outputs": []
    },
    {
      "cell_type": "code",
      "source": [
        "model2.compile(optimizer='adam',metrics=['accuracy'],loss='categorical_crossentropy')"
      ],
      "metadata": {
        "id": "ZfjRRkR64TAm"
      },
      "execution_count": 14,
      "outputs": []
    },
    {
      "cell_type": "code",
      "source": [
        "early_stop = EarlyStopping(monitor='accuracy',patience=8)"
      ],
      "metadata": {
        "id": "m_9ecrpY4Ttu"
      },
      "execution_count": 15,
      "outputs": []
    },
    {
      "cell_type": "code",
      "source": [
        "model2.fit(train,batch_size=8,validation_data=test,epochs=100,callbacks=early_stop)"
      ],
      "metadata": {
        "colab": {
          "base_uri": "https://localhost:8080/"
        },
        "id": "JTLT8jc13LCo",
        "outputId": "3f90394f-14d6-4816-f3a7-1abc30694b58"
      },
      "execution_count": 16,
      "outputs": [
        {
          "output_type": "stream",
          "name": "stdout",
          "text": [
            "Epoch 1/100\n",
            "19/19 [==============================] - 133s 7s/step - loss: 2.7217 - accuracy: 0.1133 - val_loss: 2.6739 - val_accuracy: 0.1656\n",
            "Epoch 2/100\n",
            "19/19 [==============================] - 129s 7s/step - loss: 2.5685 - accuracy: 0.2000 - val_loss: 2.6376 - val_accuracy: 0.1975\n",
            "Epoch 3/100\n",
            "19/19 [==============================] - 107s 6s/step - loss: 2.4740 - accuracy: 0.1800 - val_loss: 2.6766 - val_accuracy: 0.1720\n",
            "Epoch 4/100\n",
            "19/19 [==============================] - 128s 7s/step - loss: 2.4143 - accuracy: 0.2133 - val_loss: 2.6640 - val_accuracy: 0.1592\n",
            "Epoch 5/100\n",
            "19/19 [==============================] - 129s 7s/step - loss: 2.2492 - accuracy: 0.2800 - val_loss: 2.6758 - val_accuracy: 0.1656\n",
            "Epoch 6/100\n",
            "19/19 [==============================] - 128s 7s/step - loss: 2.1733 - accuracy: 0.2667 - val_loss: 2.5559 - val_accuracy: 0.1783\n",
            "Epoch 7/100\n",
            "19/19 [==============================] - 106s 6s/step - loss: 2.1273 - accuracy: 0.3400 - val_loss: 2.5049 - val_accuracy: 0.1656\n",
            "Epoch 8/100\n",
            "19/19 [==============================] - 107s 6s/step - loss: 1.9466 - accuracy: 0.4267 - val_loss: 2.5366 - val_accuracy: 0.2038\n",
            "Epoch 9/100\n",
            "19/19 [==============================] - 128s 7s/step - loss: 1.7913 - accuracy: 0.3867 - val_loss: 2.5323 - val_accuracy: 0.1847\n",
            "Epoch 10/100\n",
            "19/19 [==============================] - 129s 7s/step - loss: 1.7106 - accuracy: 0.4267 - val_loss: 2.6062 - val_accuracy: 0.2675\n",
            "Epoch 11/100\n",
            "19/19 [==============================] - 115s 6s/step - loss: 1.4784 - accuracy: 0.5333 - val_loss: 2.7760 - val_accuracy: 0.2166\n",
            "Epoch 12/100\n",
            "19/19 [==============================] - 128s 7s/step - loss: 1.3684 - accuracy: 0.4933 - val_loss: 2.8624 - val_accuracy: 0.2484\n",
            "Epoch 13/100\n",
            "19/19 [==============================] - 128s 7s/step - loss: 1.1983 - accuracy: 0.5800 - val_loss: 3.2826 - val_accuracy: 0.2420\n",
            "Epoch 14/100\n",
            "19/19 [==============================] - 128s 7s/step - loss: 1.3582 - accuracy: 0.6267 - val_loss: 3.0624 - val_accuracy: 0.2357\n",
            "Epoch 15/100\n",
            "19/19 [==============================] - 129s 7s/step - loss: 1.2668 - accuracy: 0.5733 - val_loss: 2.8316 - val_accuracy: 0.2102\n",
            "Epoch 16/100\n",
            "19/19 [==============================] - 133s 7s/step - loss: 1.0842 - accuracy: 0.6267 - val_loss: 3.1606 - val_accuracy: 0.2293\n",
            "Epoch 17/100\n",
            "19/19 [==============================] - 128s 7s/step - loss: 0.7364 - accuracy: 0.7600 - val_loss: 3.4041 - val_accuracy: 0.2548\n",
            "Epoch 18/100\n",
            "19/19 [==============================] - 128s 7s/step - loss: 0.7805 - accuracy: 0.7600 - val_loss: 4.1590 - val_accuracy: 0.2803\n",
            "Epoch 19/100\n",
            "19/19 [==============================] - 128s 7s/step - loss: 0.8442 - accuracy: 0.7333 - val_loss: 3.8145 - val_accuracy: 0.2803\n",
            "Epoch 20/100\n",
            "19/19 [==============================] - 107s 6s/step - loss: 0.7623 - accuracy: 0.7600 - val_loss: 3.6898 - val_accuracy: 0.2484\n",
            "Epoch 21/100\n",
            "19/19 [==============================] - 129s 7s/step - loss: 0.4738 - accuracy: 0.8733 - val_loss: 4.3416 - val_accuracy: 0.2675\n",
            "Epoch 22/100\n",
            "19/19 [==============================] - 129s 7s/step - loss: 0.4428 - accuracy: 0.8867 - val_loss: 4.3561 - val_accuracy: 0.2548\n",
            "Epoch 23/100\n",
            "19/19 [==============================] - 105s 6s/step - loss: 0.3880 - accuracy: 0.8667 - val_loss: 4.5454 - val_accuracy: 0.2166\n",
            "Epoch 24/100\n",
            "19/19 [==============================] - 108s 6s/step - loss: 0.3252 - accuracy: 0.9200 - val_loss: 4.8333 - val_accuracy: 0.2548\n",
            "Epoch 25/100\n",
            "19/19 [==============================] - 129s 7s/step - loss: 0.1988 - accuracy: 0.9333 - val_loss: 5.0276 - val_accuracy: 0.2866\n",
            "Epoch 26/100\n",
            "19/19 [==============================] - 128s 7s/step - loss: 0.0967 - accuracy: 0.9867 - val_loss: 5.6354 - val_accuracy: 0.2994\n",
            "Epoch 27/100\n",
            "19/19 [==============================] - 107s 6s/step - loss: 0.0975 - accuracy: 0.9667 - val_loss: 5.9822 - val_accuracy: 0.3185\n",
            "Epoch 28/100\n",
            "19/19 [==============================] - 106s 6s/step - loss: 0.0516 - accuracy: 0.9933 - val_loss: 6.1846 - val_accuracy: 0.3185\n",
            "Epoch 29/100\n",
            "19/19 [==============================] - 128s 7s/step - loss: 0.1041 - accuracy: 0.9733 - val_loss: 6.3621 - val_accuracy: 0.2994\n",
            "Epoch 30/100\n",
            "19/19 [==============================] - 107s 6s/step - loss: 0.6467 - accuracy: 0.8133 - val_loss: 4.6952 - val_accuracy: 0.2484\n",
            "Epoch 31/100\n",
            "19/19 [==============================] - 129s 7s/step - loss: 0.4258 - accuracy: 0.8667 - val_loss: 4.6445 - val_accuracy: 0.2611\n",
            "Epoch 32/100\n",
            "19/19 [==============================] - 129s 7s/step - loss: 0.2117 - accuracy: 0.9467 - val_loss: 4.9919 - val_accuracy: 0.2675\n",
            "Epoch 33/100\n",
            "19/19 [==============================] - 128s 7s/step - loss: 0.0911 - accuracy: 0.9867 - val_loss: 5.4066 - val_accuracy: 0.2994\n",
            "Epoch 34/100\n",
            "19/19 [==============================] - 107s 6s/step - loss: 0.0300 - accuracy: 1.0000 - val_loss: 5.9601 - val_accuracy: 0.2994\n",
            "Epoch 35/100\n",
            "19/19 [==============================] - 109s 6s/step - loss: 0.0176 - accuracy: 1.0000 - val_loss: 6.4273 - val_accuracy: 0.2866\n",
            "Epoch 36/100\n",
            "19/19 [==============================] - 130s 7s/step - loss: 0.0132 - accuracy: 1.0000 - val_loss: 6.7391 - val_accuracy: 0.2994\n",
            "Epoch 37/100\n",
            "19/19 [==============================] - 129s 7s/step - loss: 0.0095 - accuracy: 1.0000 - val_loss: 6.9689 - val_accuracy: 0.3121\n",
            "Epoch 38/100\n",
            "19/19 [==============================] - 128s 7s/step - loss: 0.0066 - accuracy: 1.0000 - val_loss: 7.1455 - val_accuracy: 0.2994\n",
            "Epoch 39/100\n",
            "19/19 [==============================] - 128s 7s/step - loss: 0.0060 - accuracy: 1.0000 - val_loss: 7.2560 - val_accuracy: 0.2930\n",
            "Epoch 40/100\n",
            "19/19 [==============================] - 128s 7s/step - loss: 0.0051 - accuracy: 1.0000 - val_loss: 7.4203 - val_accuracy: 0.2994\n",
            "Epoch 41/100\n",
            "19/19 [==============================] - 129s 7s/step - loss: 0.0047 - accuracy: 1.0000 - val_loss: 7.4971 - val_accuracy: 0.2994\n",
            "Epoch 42/100\n",
            "19/19 [==============================] - 130s 7s/step - loss: 0.0039 - accuracy: 1.0000 - val_loss: 7.6678 - val_accuracy: 0.2930\n"
          ]
        },
        {
          "output_type": "execute_result",
          "data": {
            "text/plain": [
              "<keras.callbacks.History at 0x7f0109743010>"
            ]
          },
          "metadata": {},
          "execution_count": 16
        }
      ]
    },
    {
      "cell_type": "markdown",
      "source": [
        "# Model 3(Accuracy, Val Accuracy)"
      ],
      "metadata": {
        "id": "iGxQ6mG5NtWd"
      }
    },
    {
      "cell_type": "code",
      "source": [],
      "metadata": {
        "id": "pUIPhfveNsqG"
      },
      "execution_count": null,
      "outputs": []
    }
  ]
}