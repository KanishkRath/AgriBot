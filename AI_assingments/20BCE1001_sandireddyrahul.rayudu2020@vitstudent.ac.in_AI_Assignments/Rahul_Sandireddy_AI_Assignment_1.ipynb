{
  "nbformat": 4,
  "nbformat_minor": 0,
  "metadata": {
    "colab": {
      "provenance": []
    },
    "kernelspec": {
      "name": "python3",
      "display_name": "Python 3"
    },
    "language_info": {
      "name": "python"
    }
  },
  "cells": [
    {
      "cell_type": "markdown",
      "source": [
        "# Rahul_Sandireddy (20BCE1001) \n",
        "VIT Chennai"
      ],
      "metadata": {
        "id": "7gPnBqVffF5i"
      }
    },
    {
      "cell_type": "markdown",
      "source": [
        "\n",
        "# **AI Assignment - 1**"
      ],
      "metadata": {
        "id": "tvDQpXJ8ilWs"
      }
    },
    {
      "cell_type": "markdown",
      "source": [
        "\n",
        "# **Task - 1**"
      ],
      "metadata": {
        "id": "hmfaQgSkdnNR"
      }
    },
    {
      "cell_type": "markdown",
      "source": [
        "# 1Q, Create a pandas dataframe (DataFrame name as 'df') with numpy random values (4 features and 4 observation)"
      ],
      "metadata": {
        "id": "fUxA4cqQe_FN"
      }
    },
    {
      "cell_type": "code",
      "execution_count": 8,
      "metadata": {
        "id": "-SNo_Bz2XaDj"
      },
      "outputs": [],
      "source": [
        "import pandas as pd\n",
        "import numpy as np\n",
        "\n",
        "np.random.seed(42)\n",
        "data = np.random.randn(4, 4)\n",
        "\n",
        "df = pd.DataFrame(data)\n",
        "\n"
      ]
    },
    {
      "cell_type": "code",
      "source": [
        "print(df)"
      ],
      "metadata": {
        "colab": {
          "base_uri": "https://localhost:8080/"
        },
        "id": "gusfc5QXddYa",
        "outputId": "e788f41f-a006-46f9-b9dd-4f1db5b64e67"
      },
      "execution_count": 9,
      "outputs": [
        {
          "output_type": "stream",
          "name": "stdout",
          "text": [
            "          0         1         2         3\n",
            "0  0.496714 -0.138264  0.647689  1.523030\n",
            "1 -0.234153 -0.234137  1.579213  0.767435\n",
            "2 -0.469474  0.542560 -0.463418 -0.465730\n",
            "3  0.241962 -1.913280 -1.724918 -0.562288\n"
          ]
        }
      ]
    },
    {
      "cell_type": "markdown",
      "source": [
        "# **Task 2**"
      ],
      "metadata": {
        "id": "9-4sGKGef9Po"
      }
    },
    {
      "cell_type": "markdown",
      "source": [
        "# 2Q, Rename the task - 1 'df' dataframe column names to 'Random value 1', 'Random value 2', 'Random value 3' & 'Random value 4'\n"
      ],
      "metadata": {
        "id": "y2Ev0EREgE9f"
      }
    },
    {
      "cell_type": "code",
      "source": [
        "df.columns =  ['Random value 1', 'Random value 2', 'Random value 3', 'Random value 4']\n",
        "print(df)"
      ],
      "metadata": {
        "colab": {
          "base_uri": "https://localhost:8080/"
        },
        "id": "CbvR4DieeGII",
        "outputId": "efcd0fc3-85fc-4a46-d880-2a59b66081fd"
      },
      "execution_count": 10,
      "outputs": [
        {
          "output_type": "stream",
          "name": "stdout",
          "text": [
            "   Random value 1  Random value 2  Random value 3  Random value 4\n",
            "0        0.496714       -0.138264        0.647689        1.523030\n",
            "1       -0.234153       -0.234137        1.579213        0.767435\n",
            "2       -0.469474        0.542560       -0.463418       -0.465730\n",
            "3        0.241962       -1.913280       -1.724918       -0.562288\n"
          ]
        }
      ]
    },
    {
      "cell_type": "markdown",
      "source": [
        "# **Task 3**"
      ],
      "metadata": {
        "id": "RV5VAqltgahY"
      }
    },
    {
      "cell_type": "markdown",
      "source": [
        "# 3Q, Find the descriptive statistics of the 'df' dataframe."
      ],
      "metadata": {
        "id": "t5dr9tgMgfUT"
      }
    },
    {
      "cell_type": "code",
      "source": [
        "# Calculate descriptive statistics\n",
        "statistics = df.describe()\n",
        "print(statistics)"
      ],
      "metadata": {
        "colab": {
          "base_uri": "https://localhost:8080/"
        },
        "id": "8h-PzMR0gpIW",
        "outputId": "0c1a4181-549d-4bef-e608-c3517b8aa63b"
      },
      "execution_count": 11,
      "outputs": [
        {
          "output_type": "stream",
          "name": "stdout",
          "text": [
            "       Random value 1  Random value 2  Random value 3  Random value 4\n",
            "count        4.000000        4.000000        4.000000        4.000000\n",
            "mean         0.008762       -0.435780        0.009641        0.315612\n",
            "std          0.439772        1.043924        1.426317        1.007175\n",
            "min         -0.469474       -1.913280       -1.724918       -0.562288\n",
            "25%         -0.292984       -0.653923       -0.778793       -0.489869\n",
            "50%          0.003904       -0.186201        0.092135        0.150852\n",
            "75%          0.305650        0.031942        0.880570        0.956334\n",
            "max          0.496714        0.542560        1.579213        1.523030\n"
          ]
        }
      ]
    },
    {
      "cell_type": "markdown",
      "source": [
        "# **Task 4**"
      ],
      "metadata": {
        "id": "o3QQmZeWhHxf"
      }
    },
    {
      "cell_type": "markdown",
      "source": [
        "# 4Q, Check for the null values in 'df' and find the data type of the columns"
      ],
      "metadata": {
        "id": "p5vxSwLPhNkM"
      }
    },
    {
      "cell_type": "code",
      "source": [
        "null_values = df.isnull().sum()\n",
        "column_types = df.dtypes"
      ],
      "metadata": {
        "id": "U9_LsepQhaG1"
      },
      "execution_count": 12,
      "outputs": []
    },
    {
      "cell_type": "code",
      "source": [
        "print(\"Null Values:\")\n",
        "print(null_values)"
      ],
      "metadata": {
        "colab": {
          "base_uri": "https://localhost:8080/"
        },
        "id": "qwtLn3oNiGFQ",
        "outputId": "5dd4391d-6491-4285-b4c2-38fd7e2563ec"
      },
      "execution_count": 13,
      "outputs": [
        {
          "output_type": "stream",
          "name": "stdout",
          "text": [
            "Null Values:\n",
            "Random value 1    0\n",
            "Random value 2    0\n",
            "Random value 3    0\n",
            "Random value 4    0\n",
            "dtype: int64\n"
          ]
        }
      ]
    },
    {
      "cell_type": "code",
      "source": [
        "print(\"\\nColumn Data Types:\")\n",
        "print(column_types)"
      ],
      "metadata": {
        "colab": {
          "base_uri": "https://localhost:8080/"
        },
        "id": "AqzPC1XniPyK",
        "outputId": "28b83894-a250-4647-b67d-2eb78fec7cbb"
      },
      "execution_count": 14,
      "outputs": [
        {
          "output_type": "stream",
          "name": "stdout",
          "text": [
            "\n",
            "Column Data Types:\n",
            "Random value 1    float64\n",
            "Random value 2    float64\n",
            "Random value 3    float64\n",
            "Random value 4    float64\n",
            "dtype: object\n"
          ]
        }
      ]
    },
    {
      "cell_type": "markdown",
      "source": [
        "# **Task -5**"
      ],
      "metadata": {
        "id": "25MGy_TWizbG"
      }
    },
    {
      "cell_type": "markdown",
      "source": [
        "# 5Q, Display the 'Random value 2' & 'Random value 3' columns with location method and index location method"
      ],
      "metadata": {
        "id": "fpzv5adBi8Ju"
      }
    },
    {
      "cell_type": "code",
      "source": [
        "# Display columns using the location method (loc)\n",
        "loc_columns = df.loc[:, ['Random value 2', 'Random value 3']]\n",
        "print(\"Columns using the location method (loc):\")\n",
        "print(loc_columns)\n"
      ],
      "metadata": {
        "colab": {
          "base_uri": "https://localhost:8080/"
        },
        "id": "X7sp2Na9ib4H",
        "outputId": "4602aa00-1acb-4899-fb93-189bcca73d25"
      },
      "execution_count": 15,
      "outputs": [
        {
          "output_type": "stream",
          "name": "stdout",
          "text": [
            "Columns using the location method (loc):\n",
            "   Random value 2  Random value 3\n",
            "0       -0.138264        0.647689\n",
            "1       -0.234137        1.579213\n",
            "2        0.542560       -0.463418\n",
            "3       -1.913280       -1.724918\n"
          ]
        }
      ]
    },
    {
      "cell_type": "code",
      "source": [
        "# Display columns using the index location method (iloc)\n",
        "iloc_columns = df.iloc[:, [1, 2]]\n",
        "print(\"\\nColumns using the index location method (iloc):\")\n",
        "print(iloc_columns)"
      ],
      "metadata": {
        "colab": {
          "base_uri": "https://localhost:8080/"
        },
        "id": "g7i-jtf3jfBu",
        "outputId": "ab4536e5-e165-4733-ac10-5f96b216d61d"
      },
      "execution_count": 16,
      "outputs": [
        {
          "output_type": "stream",
          "name": "stdout",
          "text": [
            "\n",
            "Columns using the index location method (iloc):\n",
            "   Random value 2  Random value 3\n",
            "0       -0.138264        0.647689\n",
            "1       -0.234137        1.579213\n",
            "2        0.542560       -0.463418\n",
            "3       -1.913280       -1.724918\n"
          ]
        }
      ]
    }
  ]
}