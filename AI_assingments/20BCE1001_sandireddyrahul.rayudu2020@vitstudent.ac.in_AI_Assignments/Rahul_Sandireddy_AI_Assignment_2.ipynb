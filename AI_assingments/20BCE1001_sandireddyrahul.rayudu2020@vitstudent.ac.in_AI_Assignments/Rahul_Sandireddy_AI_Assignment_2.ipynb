{
  "nbformat": 4,
  "nbformat_minor": 0,
  "metadata": {
    "colab": {
      "provenance": []
    },
    "kernelspec": {
      "name": "python3",
      "display_name": "Python 3"
    },
    "language_info": {
      "name": "python"
    }
  },
  "cells": [
    {
      "cell_type": "markdown",
      "source": [
        "# **Rahul Sandireddy (20BCE1001)**\n",
        "VIT Chennai"
      ],
      "metadata": {
        "id": "diCpXeHt-PEG"
      }
    },
    {
      "cell_type": "markdown",
      "source": [
        "# **AI Assignment - 2**\n",
        "**Build an ANN model for Drug classification**"
      ],
      "metadata": {
        "id": "7wK9Surw-hhk"
      }
    },
    {
      "cell_type": "markdown",
      "source": [
        "\n",
        "# **Task 1**: Read the dataset and do data pre-processing"
      ],
      "metadata": {
        "id": "vrlDloMucb7N"
      }
    },
    {
      "cell_type": "code",
      "execution_count": 21,
      "metadata": {
        "id": "FI0MdZTZ9D3K"
      },
      "outputs": [],
      "source": [
        "import pandas as pd\n",
        "import numpy as np\n",
        "import seaborn as sb\n",
        "import matplotlib.pyplot as plt\n"
      ]
    },
    {
      "cell_type": "code",
      "source": [
        "from google.colab import drive\n",
        "drive.mount('/content/drive')\n"
      ],
      "metadata": {
        "colab": {
          "base_uri": "https://localhost:8080/"
        },
        "id": "M_ayofeLvqfE",
        "outputId": "017390ae-2be0-4ecf-c52e-7905b44d7ac4"
      },
      "execution_count": 22,
      "outputs": [
        {
          "output_type": "stream",
          "name": "stdout",
          "text": [
            "Drive already mounted at /content/drive; to attempt to forcibly remount, call drive.mount(\"/content/drive\", force_remount=True).\n"
          ]
        }
      ]
    },
    {
      "cell_type": "code",
      "source": [
        "df = pd.read_csv('/content/drug200.csv')\n",
        "df.head()"
      ],
      "metadata": {
        "colab": {
          "base_uri": "https://localhost:8080/",
          "height": 206
        },
        "id": "BsfyV8YO__8z",
        "outputId": "dd571644-41d1-4908-b7af-1a797c1a5f00"
      },
      "execution_count": 23,
      "outputs": [
        {
          "output_type": "execute_result",
          "data": {
            "text/plain": [
              "   Age Sex      BP Cholesterol  Na_to_K   Drug\n",
              "0   23   F    HIGH        HIGH   25.355  DrugY\n",
              "1   47   M     LOW        HIGH   13.093  drugC\n",
              "2   47   M     LOW        HIGH   10.114  drugC\n",
              "3   28   F  NORMAL        HIGH    7.798  drugX\n",
              "4   61   F     LOW        HIGH   18.043  DrugY"
            ],
            "text/html": [
              "\n",
              "  <div id=\"df-90722616-1719-45ac-ac22-142df7a564a2\">\n",
              "    <div class=\"colab-df-container\">\n",
              "      <div>\n",
              "<style scoped>\n",
              "    .dataframe tbody tr th:only-of-type {\n",
              "        vertical-align: middle;\n",
              "    }\n",
              "\n",
              "    .dataframe tbody tr th {\n",
              "        vertical-align: top;\n",
              "    }\n",
              "\n",
              "    .dataframe thead th {\n",
              "        text-align: right;\n",
              "    }\n",
              "</style>\n",
              "<table border=\"1\" class=\"dataframe\">\n",
              "  <thead>\n",
              "    <tr style=\"text-align: right;\">\n",
              "      <th></th>\n",
              "      <th>Age</th>\n",
              "      <th>Sex</th>\n",
              "      <th>BP</th>\n",
              "      <th>Cholesterol</th>\n",
              "      <th>Na_to_K</th>\n",
              "      <th>Drug</th>\n",
              "    </tr>\n",
              "  </thead>\n",
              "  <tbody>\n",
              "    <tr>\n",
              "      <th>0</th>\n",
              "      <td>23</td>\n",
              "      <td>F</td>\n",
              "      <td>HIGH</td>\n",
              "      <td>HIGH</td>\n",
              "      <td>25.355</td>\n",
              "      <td>DrugY</td>\n",
              "    </tr>\n",
              "    <tr>\n",
              "      <th>1</th>\n",
              "      <td>47</td>\n",
              "      <td>M</td>\n",
              "      <td>LOW</td>\n",
              "      <td>HIGH</td>\n",
              "      <td>13.093</td>\n",
              "      <td>drugC</td>\n",
              "    </tr>\n",
              "    <tr>\n",
              "      <th>2</th>\n",
              "      <td>47</td>\n",
              "      <td>M</td>\n",
              "      <td>LOW</td>\n",
              "      <td>HIGH</td>\n",
              "      <td>10.114</td>\n",
              "      <td>drugC</td>\n",
              "    </tr>\n",
              "    <tr>\n",
              "      <th>3</th>\n",
              "      <td>28</td>\n",
              "      <td>F</td>\n",
              "      <td>NORMAL</td>\n",
              "      <td>HIGH</td>\n",
              "      <td>7.798</td>\n",
              "      <td>drugX</td>\n",
              "    </tr>\n",
              "    <tr>\n",
              "      <th>4</th>\n",
              "      <td>61</td>\n",
              "      <td>F</td>\n",
              "      <td>LOW</td>\n",
              "      <td>HIGH</td>\n",
              "      <td>18.043</td>\n",
              "      <td>DrugY</td>\n",
              "    </tr>\n",
              "  </tbody>\n",
              "</table>\n",
              "</div>\n",
              "      <button class=\"colab-df-convert\" onclick=\"convertToInteractive('df-90722616-1719-45ac-ac22-142df7a564a2')\"\n",
              "              title=\"Convert this dataframe to an interactive table.\"\n",
              "              style=\"display:none;\">\n",
              "        \n",
              "  <svg xmlns=\"http://www.w3.org/2000/svg\" height=\"24px\"viewBox=\"0 0 24 24\"\n",
              "       width=\"24px\">\n",
              "    <path d=\"M0 0h24v24H0V0z\" fill=\"none\"/>\n",
              "    <path d=\"M18.56 5.44l.94 2.06.94-2.06 2.06-.94-2.06-.94-.94-2.06-.94 2.06-2.06.94zm-11 1L8.5 8.5l.94-2.06 2.06-.94-2.06-.94L8.5 2.5l-.94 2.06-2.06.94zm10 10l.94 2.06.94-2.06 2.06-.94-2.06-.94-.94-2.06-.94 2.06-2.06.94z\"/><path d=\"M17.41 7.96l-1.37-1.37c-.4-.4-.92-.59-1.43-.59-.52 0-1.04.2-1.43.59L10.3 9.45l-7.72 7.72c-.78.78-.78 2.05 0 2.83L4 21.41c.39.39.9.59 1.41.59.51 0 1.02-.2 1.41-.59l7.78-7.78 2.81-2.81c.8-.78.8-2.07 0-2.86zM5.41 20L4 18.59l7.72-7.72 1.47 1.35L5.41 20z\"/>\n",
              "  </svg>\n",
              "      </button>\n",
              "      \n",
              "  <style>\n",
              "    .colab-df-container {\n",
              "      display:flex;\n",
              "      flex-wrap:wrap;\n",
              "      gap: 12px;\n",
              "    }\n",
              "\n",
              "    .colab-df-convert {\n",
              "      background-color: #E8F0FE;\n",
              "      border: none;\n",
              "      border-radius: 50%;\n",
              "      cursor: pointer;\n",
              "      display: none;\n",
              "      fill: #1967D2;\n",
              "      height: 32px;\n",
              "      padding: 0 0 0 0;\n",
              "      width: 32px;\n",
              "    }\n",
              "\n",
              "    .colab-df-convert:hover {\n",
              "      background-color: #E2EBFA;\n",
              "      box-shadow: 0px 1px 2px rgba(60, 64, 67, 0.3), 0px 1px 3px 1px rgba(60, 64, 67, 0.15);\n",
              "      fill: #174EA6;\n",
              "    }\n",
              "\n",
              "    [theme=dark] .colab-df-convert {\n",
              "      background-color: #3B4455;\n",
              "      fill: #D2E3FC;\n",
              "    }\n",
              "\n",
              "    [theme=dark] .colab-df-convert:hover {\n",
              "      background-color: #434B5C;\n",
              "      box-shadow: 0px 1px 3px 1px rgba(0, 0, 0, 0.15);\n",
              "      filter: drop-shadow(0px 1px 2px rgba(0, 0, 0, 0.3));\n",
              "      fill: #FFFFFF;\n",
              "    }\n",
              "  </style>\n",
              "\n",
              "      <script>\n",
              "        const buttonEl =\n",
              "          document.querySelector('#df-90722616-1719-45ac-ac22-142df7a564a2 button.colab-df-convert');\n",
              "        buttonEl.style.display =\n",
              "          google.colab.kernel.accessAllowed ? 'block' : 'none';\n",
              "\n",
              "        async function convertToInteractive(key) {\n",
              "          const element = document.querySelector('#df-90722616-1719-45ac-ac22-142df7a564a2');\n",
              "          const dataTable =\n",
              "            await google.colab.kernel.invokeFunction('convertToInteractive',\n",
              "                                                     [key], {});\n",
              "          if (!dataTable) return;\n",
              "\n",
              "          const docLinkHtml = 'Like what you see? Visit the ' +\n",
              "            '<a target=\"_blank\" href=https://colab.research.google.com/notebooks/data_table.ipynb>data table notebook</a>'\n",
              "            + ' to learn more about interactive tables.';\n",
              "          element.innerHTML = '';\n",
              "          dataTable['output_type'] = 'display_data';\n",
              "          await google.colab.output.renderOutput(dataTable, element);\n",
              "          const docLink = document.createElement('div');\n",
              "          docLink.innerHTML = docLinkHtml;\n",
              "          element.appendChild(docLink);\n",
              "        }\n",
              "      </script>\n",
              "    </div>\n",
              "  </div>\n",
              "  "
            ]
          },
          "metadata": {},
          "execution_count": 23
        }
      ]
    },
    {
      "cell_type": "code",
      "source": [
        "import tensorflow as tf\n",
        "from tensorflow import keras\n",
        "from tensorflow.keras import Sequential\n",
        "from tensorflow.keras.layers import Flatten,Dense\n",
        "from sklearn.preprocessing import LabelEncoder, StandardScaler\n",
        "from sklearn.model_selection import train_test_split"
      ],
      "metadata": {
        "id": "cAOv-3REalcc"
      },
      "execution_count": 24,
      "outputs": []
    },
    {
      "cell_type": "markdown",
      "source": [
        "# **Data Preprocessing**"
      ],
      "metadata": {
        "id": "BUEpRR-OavT9"
      }
    },
    {
      "cell_type": "code",
      "source": [
        "df.isnull().sum()"
      ],
      "metadata": {
        "colab": {
          "base_uri": "https://localhost:8080/"
        },
        "id": "_3oiKkVpapli",
        "outputId": "0ce779c4-dcc5-406b-afc7-a3b912623a1c"
      },
      "execution_count": 25,
      "outputs": [
        {
          "output_type": "execute_result",
          "data": {
            "text/plain": [
              "Age            0\n",
              "Sex            0\n",
              "BP             0\n",
              "Cholesterol    0\n",
              "Na_to_K        0\n",
              "Drug           0\n",
              "dtype: int64"
            ]
          },
          "metadata": {},
          "execution_count": 25
        }
      ]
    },
    {
      "cell_type": "code",
      "source": [
        "# Finding unique category\n",
        "df['Drug'].unique() "
      ],
      "metadata": {
        "colab": {
          "base_uri": "https://localhost:8080/"
        },
        "id": "epMS3JmXbBDJ",
        "outputId": "c53580f2-4566-4abd-bcfe-efb7fce2752a"
      },
      "execution_count": 26,
      "outputs": [
        {
          "output_type": "execute_result",
          "data": {
            "text/plain": [
              "array(['DrugY', 'drugC', 'drugX', 'drugA', 'drugB'], dtype=object)"
            ]
          },
          "metadata": {},
          "execution_count": 26
        }
      ]
    },
    {
      "cell_type": "code",
      "source": [
        "df['Drug'].value_counts()"
      ],
      "metadata": {
        "colab": {
          "base_uri": "https://localhost:8080/"
        },
        "id": "0UO1zQQEcroR",
        "outputId": "07cb2478-59dc-41ea-9a0d-e796b91e2a88"
      },
      "execution_count": 27,
      "outputs": [
        {
          "output_type": "execute_result",
          "data": {
            "text/plain": [
              "DrugY    91\n",
              "drugX    54\n",
              "drugA    23\n",
              "drugC    16\n",
              "drugB    16\n",
              "Name: Drug, dtype: int64"
            ]
          },
          "metadata": {},
          "execution_count": 27
        }
      ]
    },
    {
      "cell_type": "code",
      "source": [
        "df.shape"
      ],
      "metadata": {
        "colab": {
          "base_uri": "https://localhost:8080/"
        },
        "id": "XOJu8ZwEc52t",
        "outputId": "33a68879-72e1-43fd-978a-cf327d99df28"
      },
      "execution_count": 28,
      "outputs": [
        {
          "output_type": "execute_result",
          "data": {
            "text/plain": [
              "(200, 6)"
            ]
          },
          "metadata": {},
          "execution_count": 28
        }
      ]
    },
    {
      "cell_type": "code",
      "source": [
        "# Check for dataset information\n",
        "df.info"
      ],
      "metadata": {
        "colab": {
          "base_uri": "https://localhost:8080/"
        },
        "id": "widFTK7Fd_-k",
        "outputId": "1bbd4239-3433-4a5f-ea76-e10ffd10a4e2"
      },
      "execution_count": 29,
      "outputs": [
        {
          "output_type": "execute_result",
          "data": {
            "text/plain": [
              "<bound method DataFrame.info of      Age Sex      BP Cholesterol  Na_to_K   Drug\n",
              "0     23   F    HIGH        HIGH   25.355  DrugY\n",
              "1     47   M     LOW        HIGH   13.093  drugC\n",
              "2     47   M     LOW        HIGH   10.114  drugC\n",
              "3     28   F  NORMAL        HIGH    7.798  drugX\n",
              "4     61   F     LOW        HIGH   18.043  DrugY\n",
              "..   ...  ..     ...         ...      ...    ...\n",
              "195   56   F     LOW        HIGH   11.567  drugC\n",
              "196   16   M     LOW        HIGH   12.006  drugC\n",
              "197   52   M  NORMAL        HIGH    9.894  drugX\n",
              "198   23   M  NORMAL      NORMAL   14.020  drugX\n",
              "199   40   F     LOW      NORMAL   11.349  drugX\n",
              "\n",
              "[200 rows x 6 columns]>"
            ]
          },
          "metadata": {},
          "execution_count": 29
        }
      ]
    },
    {
      "cell_type": "markdown",
      "source": [
        "# Visualization"
      ],
      "metadata": {
        "id": "3jtEBizJe_NY"
      }
    },
    {
      "cell_type": "code",
      "source": [
        "drug_counts = df['Drug'].value_counts()\n",
        "\n",
        "# Plot bar chart of drug counts\n",
        "plt.bar(drug_counts.index, drug_counts.values)\n",
        "plt.title('Drug Counts')\n",
        "plt.xlabel('Drug')\n",
        "plt.ylabel('Count')\n",
        "plt.xticks(rotation=45)\n",
        "plt.show()"
      ],
      "metadata": {
        "colab": {
          "base_uri": "https://localhost:8080/",
          "height": 498
        },
        "id": "xRoea_k7e-3O",
        "outputId": "20c7b696-7e0e-44d9-8c67-b9bbdadb73db"
      },
      "execution_count": 30,
      "outputs": [
        {
          "output_type": "display_data",
          "data": {
            "text/plain": [
              "<Figure size 640x480 with 1 Axes>"
            ],
            "image/png": "[encoded data removed]"
          },
          "metadata": {}
        }
      ]
    },
    {
      "cell_type": "code",
      "source": [
        "BP_counts = df['BP'].value_counts()\n",
        "\n",
        "# Plot bar chart of drug counts\n",
        "plt.bar(BP_counts.index, BP_counts.values)\n",
        "plt.title('BP')\n",
        "plt.xlabel('BP')\n",
        "plt.ylabel('Count')\n",
        "plt.xticks(rotation=45)\n",
        "plt.show()"
      ],
      "metadata": {
        "colab": {
          "base_uri": "https://localhost:8080/",
          "height": 510
        },
        "id": "6OLgngOFgqXt",
        "outputId": "d1be1a0a-dd53-4286-be1a-105494b931da"
      },
      "execution_count": 31,
      "outputs": [
        {
          "output_type": "display_data",
          "data": {
            "text/plain": [
              "<Figure size 640x480 with 1 Axes>"
            ],
            "image/png": "[encoded data removed]"
          },
          "metadata": {}
        }
      ]
    },
    {
      "cell_type": "code",
      "source": [
        "Cholesterol_counts = df['Cholesterol'].value_counts()\n",
        "\n",
        "# Plot bar chart of drug counts\n",
        "plt.bar(Cholesterol_counts.index, Cholesterol_counts.values)\n",
        "plt.title('Cholesterol_count')\n",
        "plt.xlabel('Cholesterol')\n",
        "plt.ylabel('Count')\n",
        "plt.xticks(rotation=45)\n",
        "plt.show()"
      ],
      "metadata": {
        "colab": {
          "base_uri": "https://localhost:8080/",
          "height": 510
        },
        "id": "IcJIZ_qIrQLP",
        "outputId": "a36dc35f-79e0-464e-af78-5e1b678bff1e"
      },
      "execution_count": 32,
      "outputs": [
        {
          "output_type": "display_data",
          "data": {
            "text/plain": [
              "<Figure size 640x480 with 1 Axes>"
            ],
            "image/png": "[encoded data removed]"
          },
          "metadata": {}
        }
      ]
    },
    {
      "cell_type": "markdown",
      "source": [
        "# Segregating the data into train & test"
      ],
      "metadata": {
        "id": "Ra6o7uPSsDL9"
      }
    },
    {
      "cell_type": "code",
      "source": [
        "X = df.iloc[:, :-1].values\n",
        "y = df.iloc[:, -1].values"
      ],
      "metadata": {
        "id": "5Vp6bKTaKCtj"
      },
      "execution_count": 33,
      "outputs": []
    },
    {
      "cell_type": "code",
      "source": [
        "Y_class = len(np.unique(y))\n",
        "Y_class"
      ],
      "metadata": {
        "colab": {
          "base_uri": "https://localhost:8080/"
        },
        "id": "H6MRRll4Lbe9",
        "outputId": "90ee5b86-a344-4585-f1d0-5f0595128b3f"
      },
      "execution_count": 34,
      "outputs": [
        {
          "output_type": "execute_result",
          "data": {
            "text/plain": [
              "5"
            ]
          },
          "metadata": {},
          "execution_count": 34
        }
      ]
    },
    {
      "cell_type": "markdown",
      "source": [
        "# Convert the Categorical data into interger data"
      ],
      "metadata": {
        "id": "o41PM9JRsjBb"
      }
    },
    {
      "cell_type": "code",
      "source": [
        "from sklearn.compose import ColumnTransformer\n",
        "from sklearn.preprocessing import OneHotEncoder\n",
        "le = LabelEncoder()\n",
        "X[:, 1] = le.fit_transform(X[:, 1])\n",
        "\n",
        "# BP, Cholestero columns\n",
        "ct = ColumnTransformer(transformers=[('encoder', OneHotEncoder(), [2, 3])], remainder='passthrough')\n",
        "X = np.array(ct.fit_transform(X))\n",
        "\n",
        "# Drug column\n",
        "encoder = OneHotEncoder()\n",
        "encoded_Y = encoder.fit(y.reshape(-1,1))\n",
        "y = encoded_Y.transform(y.reshape(-1,1)).toarray()\n"
      ],
      "metadata": {
        "id": "BL_c0bKnsXti"
      },
      "execution_count": 35,
      "outputs": []
    },
    {
      "cell_type": "markdown",
      "source": [
        "# Split the data"
      ],
      "metadata": {
        "id": "E7J9ThjTtWWw"
      }
    },
    {
      "cell_type": "code",
      "source": [
        "X_train, X_test, y_train, y_test = train_test_split(X, y, test_size=0.3, random_state=42)"
      ],
      "metadata": {
        "id": "5UbeuPY4KcXb"
      },
      "execution_count": 36,
      "outputs": []
    },
    {
      "cell_type": "markdown",
      "source": [
        "# Scaling"
      ],
      "metadata": {
        "id": "JRQ4X6bIKeV0"
      }
    },
    {
      "cell_type": "code",
      "source": [
        "sc = StandardScaler()\n",
        "X_train = sc.fit_transform(X_train)\n",
        "X_test = sc.transform(X_test)"
      ],
      "metadata": {
        "id": "00eEu6syKh0b"
      },
      "execution_count": 37,
      "outputs": []
    },
    {
      "cell_type": "markdown",
      "source": [
        "# **Task 2** : Build the ANN model with (input layer, min 3 hidden layers & output layer)\n",
        "\n",
        "model building "
      ],
      "metadata": {
        "id": "IjoQEyc5uMJ3"
      }
    },
    {
      "cell_type": "code",
      "source": [
        "model = Sequential()\n",
        "model.add(Dense(48, input_shape=(X_train.shape[1],), activation='relu'))\n",
        "model.add(Dense(36, activation='relu'))\n",
        "model.add(Dense(24, activation='relu'))\n",
        "model.add(Dense(12, activation='relu'))\n",
        "model.add(Dense(Y_class,activation='softmax'))"
      ],
      "metadata": {
        "id": "m41nvcrfuFcu"
      },
      "execution_count": 38,
      "outputs": []
    },
    {
      "cell_type": "code",
      "source": [
        "model.summary()"
      ],
      "metadata": {
        "colab": {
          "base_uri": "https://localhost:8080/"
        },
        "id": "BpMH6-T_vLNw",
        "outputId": "a7b7d6de-f090-45af-ec7c-0a946ba49d31"
      },
      "execution_count": 39,
      "outputs": [
        {
          "output_type": "stream",
          "name": "stdout",
          "text": [
            "Model: \"sequential\"\n",
            "_________________________________________________________________\n",
            " Layer (type)                Output Shape              Param #   \n",
            "=================================================================\n",
            " dense (Dense)               (None, 48)                432       \n",
            "                                                                 \n",
            " dense_1 (Dense)             (None, 36)                1764      \n",
            "                                                                 \n",
            " dense_2 (Dense)             (None, 24)                888       \n",
            "                                                                 \n",
            " dense_3 (Dense)             (None, 12)                300       \n",
            "                                                                 \n",
            " dense_4 (Dense)             (None, 5)                 65        \n",
            "                                                                 \n",
            "=================================================================\n",
            "Total params: 3,449\n",
            "Trainable params: 3,449\n",
            "Non-trainable params: 0\n",
            "_________________________________________________________________\n"
          ]
        }
      ]
    },
    {
      "cell_type": "code",
      "source": [
        "model.compile(optimizer='adam',loss='categorical_crossentropy',metrics=['accuracy'])"
      ],
      "metadata": {
        "id": "YiNHO1GCvWwJ"
      },
      "execution_count": 40,
      "outputs": []
    },
    {
      "cell_type": "code",
      "source": [
        "model.fit(X_train,y_train,epochs=100,batch_size=32)"
      ],
      "metadata": {
        "colab": {
          "base_uri": "https://localhost:8080/"
        },
        "id": "f0nIXFVLve_5",
        "outputId": "1653980d-05ff-4693-953b-0dca1b768886"
      },
      "execution_count": 41,
      "outputs": [
        {
          "output_type": "stream",
          "name": "stdout",
          "text": [
            "Epoch 1/100\n",
            "5/5 [==============================] - 1s 6ms/step - loss: 1.6581 - accuracy: 0.2500\n",
            "Epoch 2/100\n",
            "5/5 [==============================] - 0s 4ms/step - loss: 1.5236 - accuracy: 0.3857\n",
            "Epoch 3/100\n",
            "5/5 [==============================] - 0s 4ms/step - loss: 1.4299 - accuracy: 0.4643\n",
            "Epoch 4/100\n",
            "5/5 [==============================] - 0s 5ms/step - loss: 1.3491 - accuracy: 0.4857\n",
            "Epoch 5/100\n",
            "5/5 [==============================] - 0s 4ms/step - loss: 1.2775 - accuracy: 0.4929\n",
            "Epoch 6/100\n",
            "5/5 [==============================] - 0s 4ms/step - loss: 1.2035 - accuracy: 0.4929\n",
            "Epoch 7/100\n",
            "5/5 [==============================] - 0s 4ms/step - loss: 1.1369 - accuracy: 0.5357\n",
            "Epoch 8/100\n",
            "5/5 [==============================] - 0s 4ms/step - loss: 1.0723 - accuracy: 0.5643\n",
            "Epoch 9/100\n",
            "5/5 [==============================] - 0s 3ms/step - loss: 1.0073 - accuracy: 0.5929\n",
            "Epoch 10/100\n",
            "5/5 [==============================] - 0s 4ms/step - loss: 0.9418 - accuracy: 0.6429\n",
            "Epoch 11/100\n",
            "5/5 [==============================] - 0s 4ms/step - loss: 0.8778 - accuracy: 0.6714\n",
            "Epoch 12/100\n",
            "5/5 [==============================] - 0s 4ms/step - loss: 0.8128 - accuracy: 0.7071\n",
            "Epoch 13/100\n",
            "5/5 [==============================] - 0s 4ms/step - loss: 0.7557 - accuracy: 0.7214\n",
            "Epoch 14/100\n",
            "5/5 [==============================] - 0s 5ms/step - loss: 0.6936 - accuracy: 0.7571\n",
            "Epoch 15/100\n",
            "5/5 [==============================] - 0s 4ms/step - loss: 0.6394 - accuracy: 0.7786\n",
            "Epoch 16/100\n",
            "5/5 [==============================] - 0s 4ms/step - loss: 0.5928 - accuracy: 0.8071\n",
            "Epoch 17/100\n",
            "5/5 [==============================] - 0s 4ms/step - loss: 0.5448 - accuracy: 0.8071\n",
            "Epoch 18/100\n",
            "5/5 [==============================] - 0s 5ms/step - loss: 0.5043 - accuracy: 0.8000\n",
            "Epoch 19/100\n",
            "5/5 [==============================] - 0s 4ms/step - loss: 0.4662 - accuracy: 0.8429\n",
            "Epoch 20/100\n",
            "5/5 [==============================] - 0s 4ms/step - loss: 0.4301 - accuracy: 0.8643\n",
            "Epoch 21/100\n",
            "5/5 [==============================] - 0s 4ms/step - loss: 0.3970 - accuracy: 0.8786\n",
            "Epoch 22/100\n",
            "5/5 [==============================] - 0s 4ms/step - loss: 0.3641 - accuracy: 0.8857\n",
            "Epoch 23/100\n",
            "5/5 [==============================] - 0s 5ms/step - loss: 0.3333 - accuracy: 0.8929\n",
            "Epoch 24/100\n",
            "5/5 [==============================] - 0s 4ms/step - loss: 0.3052 - accuracy: 0.9071\n",
            "Epoch 25/100\n",
            "5/5 [==============================] - 0s 6ms/step - loss: 0.2748 - accuracy: 0.9071\n",
            "Epoch 26/100\n",
            "5/5 [==============================] - 0s 4ms/step - loss: 0.2474 - accuracy: 0.9214\n",
            "Epoch 27/100\n",
            "5/5 [==============================] - 0s 4ms/step - loss: 0.2238 - accuracy: 0.9571\n",
            "Epoch 28/100\n",
            "5/5 [==============================] - 0s 4ms/step - loss: 0.2050 - accuracy: 0.9714\n",
            "Epoch 29/100\n",
            "5/5 [==============================] - 0s 5ms/step - loss: 0.1843 - accuracy: 0.9857\n",
            "Epoch 30/100\n",
            "5/5 [==============================] - 0s 4ms/step - loss: 0.1659 - accuracy: 0.9857\n",
            "Epoch 31/100\n",
            "5/5 [==============================] - 0s 4ms/step - loss: 0.1483 - accuracy: 0.9857\n",
            "Epoch 32/100\n",
            "5/5 [==============================] - 0s 4ms/step - loss: 0.1337 - accuracy: 0.9929\n",
            "Epoch 33/100\n",
            "5/5 [==============================] - 0s 3ms/step - loss: 0.1277 - accuracy: 0.9929\n",
            "Epoch 34/100\n",
            "5/5 [==============================] - 0s 4ms/step - loss: 0.1131 - accuracy: 1.0000\n",
            "Epoch 35/100\n",
            "5/5 [==============================] - 0s 4ms/step - loss: 0.0996 - accuracy: 1.0000\n",
            "Epoch 36/100\n",
            "5/5 [==============================] - 0s 5ms/step - loss: 0.0918 - accuracy: 0.9929\n",
            "Epoch 37/100\n",
            "5/5 [==============================] - 0s 4ms/step - loss: 0.0845 - accuracy: 0.9929\n",
            "Epoch 38/100\n",
            "5/5 [==============================] - 0s 4ms/step - loss: 0.0742 - accuracy: 1.0000\n",
            "Epoch 39/100\n",
            "5/5 [==============================] - 0s 5ms/step - loss: 0.0787 - accuracy: 1.0000\n",
            "Epoch 40/100\n",
            "5/5 [==============================] - 0s 5ms/step - loss: 0.0627 - accuracy: 1.0000\n",
            "Epoch 41/100\n",
            "5/5 [==============================] - 0s 4ms/step - loss: 0.0634 - accuracy: 0.9929\n",
            "Epoch 42/100\n",
            "5/5 [==============================] - 0s 4ms/step - loss: 0.0580 - accuracy: 1.0000\n",
            "Epoch 43/100\n",
            "5/5 [==============================] - 0s 4ms/step - loss: 0.0543 - accuracy: 1.0000\n",
            "Epoch 44/100\n",
            "5/5 [==============================] - 0s 4ms/step - loss: 0.0482 - accuracy: 1.0000\n",
            "Epoch 45/100\n",
            "5/5 [==============================] - 0s 4ms/step - loss: 0.0472 - accuracy: 1.0000\n",
            "Epoch 46/100\n",
            "5/5 [==============================] - 0s 4ms/step - loss: 0.0434 - accuracy: 1.0000\n",
            "Epoch 47/100\n",
            "5/5 [==============================] - 0s 3ms/step - loss: 0.0406 - accuracy: 1.0000\n",
            "Epoch 48/100\n",
            "5/5 [==============================] - 0s 6ms/step - loss: 0.0395 - accuracy: 1.0000\n",
            "Epoch 49/100\n",
            "5/5 [==============================] - 0s 5ms/step - loss: 0.0366 - accuracy: 0.9929\n",
            "Epoch 50/100\n",
            "5/5 [==============================] - 0s 4ms/step - loss: 0.0347 - accuracy: 1.0000\n",
            "Epoch 51/100\n",
            "5/5 [==============================] - 0s 4ms/step - loss: 0.0344 - accuracy: 1.0000\n",
            "Epoch 52/100\n",
            "5/5 [==============================] - 0s 4ms/step - loss: 0.0325 - accuracy: 1.0000\n",
            "Epoch 53/100\n",
            "5/5 [==============================] - 0s 4ms/step - loss: 0.0310 - accuracy: 1.0000\n",
            "Epoch 54/100\n",
            "5/5 [==============================] - 0s 4ms/step - loss: 0.0278 - accuracy: 1.0000\n",
            "Epoch 55/100\n",
            "5/5 [==============================] - 0s 4ms/step - loss: 0.0273 - accuracy: 1.0000\n",
            "Epoch 56/100\n",
            "5/5 [==============================] - 0s 4ms/step - loss: 0.0263 - accuracy: 1.0000\n",
            "Epoch 57/100\n",
            "5/5 [==============================] - 0s 4ms/step - loss: 0.0255 - accuracy: 1.0000\n",
            "Epoch 58/100\n",
            "5/5 [==============================] - 0s 4ms/step - loss: 0.0236 - accuracy: 1.0000\n",
            "Epoch 59/100\n",
            "5/5 [==============================] - 0s 4ms/step - loss: 0.0228 - accuracy: 1.0000\n",
            "Epoch 60/100\n",
            "5/5 [==============================] - 0s 4ms/step - loss: 0.0223 - accuracy: 1.0000\n",
            "Epoch 61/100\n",
            "5/5 [==============================] - 0s 4ms/step - loss: 0.0210 - accuracy: 1.0000\n",
            "Epoch 62/100\n",
            "5/5 [==============================] - 0s 3ms/step - loss: 0.0210 - accuracy: 1.0000\n",
            "Epoch 63/100\n",
            "5/5 [==============================] - 0s 5ms/step - loss: 0.0202 - accuracy: 1.0000\n",
            "Epoch 64/100\n",
            "5/5 [==============================] - 0s 4ms/step - loss: 0.0195 - accuracy: 1.0000\n",
            "Epoch 65/100\n",
            "5/5 [==============================] - 0s 4ms/step - loss: 0.0182 - accuracy: 1.0000\n",
            "Epoch 66/100\n",
            "5/5 [==============================] - 0s 4ms/step - loss: 0.0182 - accuracy: 1.0000\n",
            "Epoch 67/100\n",
            "5/5 [==============================] - 0s 4ms/step - loss: 0.0172 - accuracy: 1.0000\n",
            "Epoch 68/100\n",
            "5/5 [==============================] - 0s 4ms/step - loss: 0.0165 - accuracy: 1.0000\n",
            "Epoch 69/100\n",
            "5/5 [==============================] - 0s 4ms/step - loss: 0.0160 - accuracy: 1.0000\n",
            "Epoch 70/100\n",
            "5/5 [==============================] - 0s 4ms/step - loss: 0.0169 - accuracy: 1.0000\n",
            "Epoch 71/100\n",
            "5/5 [==============================] - 0s 3ms/step - loss: 0.0140 - accuracy: 1.0000\n",
            "Epoch 72/100\n",
            "5/5 [==============================] - 0s 5ms/step - loss: 0.0145 - accuracy: 1.0000\n",
            "Epoch 73/100\n",
            "5/5 [==============================] - 0s 4ms/step - loss: 0.0163 - accuracy: 0.9929\n",
            "Epoch 74/100\n",
            "5/5 [==============================] - 0s 4ms/step - loss: 0.0144 - accuracy: 1.0000\n",
            "Epoch 75/100\n",
            "5/5 [==============================] - 0s 4ms/step - loss: 0.0141 - accuracy: 1.0000\n",
            "Epoch 76/100\n",
            "5/5 [==============================] - 0s 4ms/step - loss: 0.0139 - accuracy: 1.0000\n",
            "Epoch 77/100\n",
            "5/5 [==============================] - 0s 3ms/step - loss: 0.0128 - accuracy: 1.0000\n",
            "Epoch 78/100\n",
            "5/5 [==============================] - 0s 5ms/step - loss: 0.0131 - accuracy: 1.0000\n",
            "Epoch 79/100\n",
            "5/5 [==============================] - 0s 4ms/step - loss: 0.0121 - accuracy: 1.0000\n",
            "Epoch 80/100\n",
            "5/5 [==============================] - 0s 6ms/step - loss: 0.0116 - accuracy: 1.0000\n",
            "Epoch 81/100\n",
            "5/5 [==============================] - 0s 4ms/step - loss: 0.0116 - accuracy: 1.0000\n",
            "Epoch 82/100\n",
            "5/5 [==============================] - 0s 4ms/step - loss: 0.0117 - accuracy: 1.0000\n",
            "Epoch 83/100\n",
            "5/5 [==============================] - 0s 4ms/step - loss: 0.0108 - accuracy: 1.0000\n",
            "Epoch 84/100\n",
            "5/5 [==============================] - 0s 4ms/step - loss: 0.0107 - accuracy: 1.0000\n",
            "Epoch 85/100\n",
            "5/5 [==============================] - 0s 4ms/step - loss: 0.0107 - accuracy: 1.0000\n",
            "Epoch 86/100\n",
            "5/5 [==============================] - 0s 3ms/step - loss: 0.0101 - accuracy: 1.0000\n",
            "Epoch 87/100\n",
            "5/5 [==============================] - 0s 4ms/step - loss: 0.0116 - accuracy: 1.0000\n",
            "Epoch 88/100\n",
            "5/5 [==============================] - 0s 4ms/step - loss: 0.0093 - accuracy: 1.0000\n",
            "Epoch 89/100\n",
            "5/5 [==============================] - 0s 5ms/step - loss: 0.0096 - accuracy: 1.0000\n",
            "Epoch 90/100\n",
            "5/5 [==============================] - 0s 4ms/step - loss: 0.0109 - accuracy: 1.0000\n",
            "Epoch 91/100\n",
            "5/5 [==============================] - 0s 5ms/step - loss: 0.0095 - accuracy: 1.0000\n",
            "Epoch 92/100\n",
            "5/5 [==============================] - 0s 4ms/step - loss: 0.0085 - accuracy: 1.0000\n",
            "Epoch 93/100\n",
            "5/5 [==============================] - 0s 4ms/step - loss: 0.0092 - accuracy: 1.0000\n",
            "Epoch 94/100\n",
            "5/5 [==============================] - 0s 4ms/step - loss: 0.0098 - accuracy: 1.0000\n",
            "Epoch 95/100\n",
            "5/5 [==============================] - 0s 4ms/step - loss: 0.0087 - accuracy: 1.0000\n",
            "Epoch 96/100\n",
            "5/5 [==============================] - 0s 4ms/step - loss: 0.0083 - accuracy: 1.0000\n",
            "Epoch 97/100\n",
            "5/5 [==============================] - 0s 4ms/step - loss: 0.0082 - accuracy: 1.0000\n",
            "Epoch 98/100\n",
            "5/5 [==============================] - 0s 5ms/step - loss: 0.0077 - accuracy: 1.0000\n",
            "Epoch 99/100\n",
            "5/5 [==============================] - 0s 4ms/step - loss: 0.0086 - accuracy: 1.0000\n",
            "Epoch 100/100\n",
            "5/5 [==============================] - 0s 4ms/step - loss: 0.0086 - accuracy: 1.0000\n"
          ]
        },
        {
          "output_type": "execute_result",
          "data": {
            "text/plain": [
              "<keras.callbacks.History at 0x7f7494e10790>"
            ]
          },
          "metadata": {},
          "execution_count": 41
        }
      ]
    },
    {
      "cell_type": "code",
      "source": [
        "# Save the model to Google Drive\n",
        "model.save('/content/drive/MyDrive/ai_assign.h5')\n"
      ],
      "metadata": {
        "id": "8RXdIS2Dv8nZ"
      },
      "execution_count": 42,
      "outputs": []
    },
    {
      "cell_type": "markdown",
      "source": [
        "# **Task 3**: Test the model with random data"
      ],
      "metadata": {
        "id": "hdlaziijyMta"
      }
    },
    {
      "cell_type": "code",
      "source": [
        "y_pred = model.predict(X_test)"
      ],
      "metadata": {
        "colab": {
          "base_uri": "https://localhost:8080/"
        },
        "id": "tDeAc4qINa3_",
        "outputId": "2a9db3aa-8a84-46bf-aeab-dc4b28042f3a"
      },
      "execution_count": 43,
      "outputs": [
        {
          "output_type": "stream",
          "name": "stdout",
          "text": [
            "2/2 [==============================] - 0s 4ms/step\n"
          ]
        }
      ]
    },
    {
      "cell_type": "code",
      "source": [
        "y_pred_outcome = []\n",
        "for output in y_pred:\n",
        "    output_list = [0] * Y_class\n",
        "    output_list[np.where(output == max(output))[0][0]] = 1\n",
        "    y_pred_outcome.append(output_list)"
      ],
      "metadata": {
        "id": "lpw3S_NMNdht"
      },
      "execution_count": 44,
      "outputs": []
    },
    {
      "cell_type": "code",
      "source": [
        "from sklearn.metrics import confusion_matrix, accuracy_score\n",
        "accuracy_score(y_test, y_pred_outcome)"
      ],
      "metadata": {
        "colab": {
          "base_uri": "https://localhost:8080/"
        },
        "id": "V71sXl-VNtzG",
        "outputId": "f6ad765c-6f07-4c9a-e6fb-03c164acdac4"
      },
      "execution_count": 45,
      "outputs": [
        {
          "output_type": "execute_result",
          "data": {
            "text/plain": [
              "0.9666666666666667"
            ]
          },
          "metadata": {},
          "execution_count": 45
        }
      ]
    },
    {
      "cell_type": "markdown",
      "source": [
        "# Taking random Value"
      ],
      "metadata": {
        "id": "ufdBltdGhG6e"
      }
    },
    {
      "cell_type": "code",
      "source": [
        "user_input = np.array([[1.0, 1.0, 1.0, 0, 0.0, 23, 0, 25.355]])\n",
        "user_input_scaled = sc.transform(user_input)\n"
      ],
      "metadata": {
        "colab": {
          "base_uri": "https://localhost:8080/"
        },
        "id": "VgEcuzjMgn0n",
        "outputId": "8b48cb55-bf9d-48e7-b7b2-54c0e2fd5afc"
      },
      "execution_count": 47,
      "outputs": [
        {
          "output_type": "execute_result",
          "data": {
            "text/plain": [
              "array([[ 1.20670641,  1.55390931,  1.52752523, -1.12163475, -0.89155583,\n",
              "        -1.40583231, -1.08972474,  1.36284704]])"
            ]
          },
          "metadata": {},
          "execution_count": 47
        }
      ]
    },
    {
      "cell_type": "code",
      "source": [
        "predictions = model.predict(user_input_scaled)\n",
        "predictions "
      ],
      "metadata": {
        "colab": {
          "base_uri": "https://localhost:8080/"
        },
        "id": "YMNEP4I_hKY4",
        "outputId": "40392246-a0c0-49bf-d643-c74337bdeec6"
      },
      "execution_count": 49,
      "outputs": [
        {
          "output_type": "stream",
          "name": "stdout",
          "text": [
            "1/1 [==============================] - 0s 69ms/step\n"
          ]
        },
        {
          "output_type": "execute_result",
          "data": {
            "text/plain": [
              "array([[1.0000000e+00, 4.2416654e-11, 1.1251494e-08, 7.9643643e-09,\n",
              "        4.9756133e-09]], dtype=float32)"
            ]
          },
          "metadata": {},
          "execution_count": 49
        }
      ]
    },
    {
      "cell_type": "code",
      "source": [
        "y_pred_outcome = []\n",
        "for output in predictions :\n",
        "    output_list = [0] * Y_class\n",
        "    output_list[np.where(output == max(output))[0][0]] = 1\n",
        "    y_pred_outcome.append(output_list)"
      ],
      "metadata": {
        "id": "d1xINSUXhl-u"
      },
      "execution_count": 50,
      "outputs": []
    },
    {
      "cell_type": "code",
      "source": [
        "y_pred_outcome"
      ],
      "metadata": {
        "colab": {
          "base_uri": "https://localhost:8080/"
        },
        "id": "dwjuo1qshq4v",
        "outputId": "7862b43b-a271-467b-f573-56f20618e699"
      },
      "execution_count": 51,
      "outputs": [
        {
          "output_type": "execute_result",
          "data": {
            "text/plain": [
              "[[1, 0, 0, 0, 0]]"
            ]
          },
          "metadata": {},
          "execution_count": 51
        }
      ]
    }
  ]
}